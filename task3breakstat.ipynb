{
 "cells": [
  {
   "cell_type": "code",
   "execution_count": null,
   "id": "58d457fb-8a04-478b-aed2-b8c43b6e244d",
   "metadata": {},
   "outputs": [],
   "source": [
    "# break statement \n",
    "# The break statement breaks out of a switch or a loop.\n",
    "\n",
    "#In a switch, it breaks out of the switch block. This stops the execution of more code inside the switch.\n",
    "\n",
    " #In in a loop, it breaks out of the loop and continues executing the code after the loop (if any)."
   ]
  },
  {
   "cell_type": "code",
   "execution_count": 11,
   "id": "8300434a-abd6-4e30-9209-c0a585ba642d",
   "metadata": {},
   "outputs": [
    {
     "ename": "IndentationError",
     "evalue": "unexpected indent (1366941781.py, line 2)",
     "output_type": "error",
     "traceback": [
      "\u001b[1;36m  Cell \u001b[1;32mIn[11], line 2\u001b[1;36m\u001b[0m\n\u001b[1;33m    numbers =[1,2,3,4,5,8,122,14]\u001b[0m\n\u001b[1;37m    ^\u001b[0m\n\u001b[1;31mIndentationError\u001b[0m\u001b[1;31m:\u001b[0m unexpected indent\n"
     ]
    }
   ],
   "source": [
    "# using break statement to exit a loop after finding a even number \n",
    " numbers =[1,2,3,4,5,8,122,14]\n",
    "for  number in numbers :\n",
    "    if number % 2 == 0:\n",
    "        print(f\"found an even number :{number}\")\n",
    "        break\n",
    "        print(f\"{number} is odd\")"
   ]
  },
  {
   "cell_type": "code",
   "execution_count": 12,
   "id": "9ada7686-6534-443f-adee-cd557120cf60",
   "metadata": {},
   "outputs": [
    {
     "name": "stdout",
     "output_type": "stream",
     "text": [
      "found banana!\n"
     ]
    }
   ],
   "source": [
    "items =[\"mango\",\"banana\",\"graps\",\"watermelon\"]\n",
    "for item in items:\n",
    "    if item==\"banana\":\n",
    "        print(\"found banana!\")\n",
    "        break"
   ]
  },
  {
   "cell_type": "code",
   "execution_count": 22,
   "id": "cf689faf-3f8c-42bc-9361-6cc3fb9eda96",
   "metadata": {},
   "outputs": [
    {
     "name": "stdout",
     "output_type": "stream",
     "text": [
      "6\n"
     ]
    }
   ],
   "source": [
    "for i in range(10):\n",
    "    if i==6:\n",
    "        print(i)\n",
    "        break"
   ]
  },
  {
   "cell_type": "code",
   "execution_count": 39,
   "id": "28fa0b4c-3210-4f22-abec-c563fd385b12",
   "metadata": {},
   "outputs": [
    {
     "ename": "SyntaxError",
     "evalue": "invalid syntax (1663915602.py, line 5)",
     "output_type": "error",
     "traceback": [
      "\u001b[1;36m  Cell \u001b[1;32mIn[39], line 5\u001b[1;36m\u001b[0m\n\u001b[1;33m    day=\"Sunday\";\u001b[0m\n\u001b[1;37m       ^\u001b[0m\n\u001b[1;31mSyntaxError\u001b[0m\u001b[1;31m:\u001b[0m invalid syntax\n"
     ]
    }
   ],
   "source": [
    "letday;\n",
    "switch(\"new Date\"().getDay()) \n",
    "{\n",
    "  case0:\n",
    "    day=\"Sunday\";\n",
    "    break;\n",
    "  case1:\n",
    "    day=\"Monday\";\n",
    "    break;\n",
    "  case2:\n",
    "    day=\"Tuesday\";\n",
    "    break;\n",
    "  case3:\n",
    "    day=\"Wednesday\";\n",
    "    break;\n",
    "  case4:\n",
    "    day=\"Thursday\";\n",
    "    break;\n",
    "  case5:\n",
    "    day=\"Friday\";\n",
    "    break;\n",
    "  case6:\n",
    "    day=\"Saturday\";\n",
    "    break;\n",
    "}"
   ]
  },
  {
   "cell_type": "code",
   "execution_count": 40,
   "id": "69bc46d4-6c88-4a07-bcbb-5ceff68e48f4",
   "metadata": {},
   "outputs": [
    {
     "name": "stdout",
     "output_type": "stream",
     "text": [
      "The num has value: 1\n",
      "The num has value: 2\n",
      "The num has value: 3\n",
      "The num has value: 4\n",
      "The num has value: 5\n",
      "The num has value: 6\n",
      "The num has value: 7\n",
      "Out of loop\n"
     ]
    }
   ],
   "source": [
    "num = 0\n",
    "for i in range(10): \n",
    "    num += 1\n",
    "    if num == 8: \n",
    "        break\n",
    "    print(\"The num has value:\", num) \n",
    "print(\"Out of loop\") "
   ]
  },
  {
   "cell_type": "code",
   "execution_count": null,
   "id": "a0a742de-5c01-47ce-b6f5-45343d8a2fae",
   "metadata": {},
   "outputs": [],
   "source": []
  }
 ],
 "metadata": {
  "kernelspec": {
   "display_name": "Python 3 (ipykernel)",
   "language": "python",
   "name": "python3"
  },
  "language_info": {
   "codemirror_mode": {
    "name": "ipython",
    "version": 3
   },
   "file_extension": ".py",
   "mimetype": "text/x-python",
   "name": "python",
   "nbconvert_exporter": "python",
   "pygments_lexer": "ipython3",
   "version": "3.11.7"
  }
 },
 "nbformat": 4,
 "nbformat_minor": 5
}
