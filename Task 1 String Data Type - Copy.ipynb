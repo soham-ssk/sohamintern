{
 "cells": [
  {
   "cell_type": "code",
   "execution_count": 1,
   "id": "ddf648f0",
   "metadata": {},
   "outputs": [
    {
     "name": "stdout",
     "output_type": "stream",
     "text": [
      "Hello\n",
      "Hello\n"
     ]
    }
   ],
   "source": [
    "#Strings\n",
    "#Strings in python are surrounded by either single quotation marks, or double quotation marks.\n",
    "#'hello' is the same as \"hello\".\n",
    "#You can display a string literal with the print() function:\n",
    "\n",
    "print(\"Hello\")\n",
    "print('Hello')"
   ]
  },
  {
   "cell_type": "code",
   "execution_count": 2,
   "id": "282503ca",
   "metadata": {},
   "outputs": [
    {
     "name": "stdout",
     "output_type": "stream",
     "text": [
      "It's Rainy Day\n",
      "It is called 'Rain'\n",
      "It is called \"Rain\"\n"
     ]
    }
   ],
   "source": [
    "#Quotes Inside Quotes\n",
    "#You can use quotes inside a string, as long as they don't match the quotes surrounding the string:\n",
    "\n",
    "#Example\n",
    "print(\"It's Rainy Day\")\n",
    "print(\"It is called 'Rain'\")\n",
    "print('It is called \"Rain\"')"
   ]
  },
  {
   "cell_type": "code",
   "execution_count": 4,
   "id": "936f0c2f",
   "metadata": {},
   "outputs": [
    {
     "name": "stdout",
     "output_type": "stream",
     "text": [
      "Hiii, my name is Shreyash\n"
     ]
    }
   ],
   "source": [
    "#Assign String to a Variable\n",
    "#Assigning a string to a variable is done with the variable name followed by an equal sign and the string:\n",
    "\n",
    "#Example\n",
    "a = \"Hiii, my name is Shreyash\"\n",
    "print(a)"
   ]
  },
  {
   "cell_type": "code",
   "execution_count": 5,
   "id": "8c1240c8",
   "metadata": {},
   "outputs": [
    {
     "name": "stdout",
     "output_type": "stream",
     "text": [
      "My name is Shreyash,\n",
      "I am here to do Internship,\n",
      "its important to complete my Degree.\n"
     ]
    }
   ],
   "source": [
    "#Multiline Strings\n",
    "#You can assign a multiline string to a variable by using three quotes:\n",
    "\n",
    "#Example\n",
    "#You can use three double quotes:\n",
    "\n",
    "a = \"\"\"My name is Shreyash,\n",
    "I am here to do Internship,\n",
    "its important to complete my Degree.\"\"\"\n",
    "print(a)"
   ]
  },
  {
   "cell_type": "code",
   "execution_count": 6,
   "id": "526aca56",
   "metadata": {},
   "outputs": [
    {
     "name": "stdout",
     "output_type": "stream",
     "text": [
      "My name is Shreyash,\n",
      "I am here to do Internship,\n",
      "its important to complete my Degree.\n"
     ]
    }
   ],
   "source": [
    "#Or three single quotes:\n",
    "\n",
    "#Example\n",
    "a = '''My name is Shreyash,\n",
    "I am here to do Internship,\n",
    "its important to complete my Degree.'''\n",
    "print(a)"
   ]
  },
  {
   "cell_type": "code",
   "execution_count": 11,
   "id": "bb9bbed7",
   "metadata": {},
   "outputs": [
    {
     "name": "stdout",
     "output_type": "stream",
     "text": [
      "H\n",
      "i\n",
      ",\n"
     ]
    }
   ],
   "source": [
    "#Strings are Arrays\n",
    "#Like many other popular programming languages, strings in Python are arrays of bytes representing unicode characters.However, Python does not have a character data type, a single character is simply a string with a length of 1.Square brackets can be used to access elements of the string.\n",
    "\n",
    "#Example\n",
    "#Get the character at position 1 (remember that the first character has the position 0):\n",
    "\n",
    "a = \"Hi, I'm Shreyash\"\n",
    "print(a[0])\n",
    "print(a[1])\n",
    "print(a[2])"
   ]
  },
  {
   "cell_type": "code",
   "execution_count": 12,
   "id": "0acdd1bd",
   "metadata": {},
   "outputs": [
    {
     "name": "stdout",
     "output_type": "stream",
     "text": [
      "S\n",
      "h\n",
      "r\n",
      "e\n",
      "y\n",
      "a\n",
      "s\n",
      "h\n"
     ]
    }
   ],
   "source": [
    "#Looping Through a String\n",
    "#Since strings are arrays, we can loop through the characters in a string, with a for loop.\n",
    "\n",
    "#Example\n",
    "#Loop through the letters in the word \"banana\":\n",
    "\n",
    "for x in \"Shreyash\":\n",
    "  print(x)"
   ]
  },
  {
   "cell_type": "code",
   "execution_count": 13,
   "id": "7358d2bd",
   "metadata": {},
   "outputs": [
    {
     "name": "stdout",
     "output_type": "stream",
     "text": [
      "25\n"
     ]
    }
   ],
   "source": [
    "#String Length\n",
    "#To get the length of a string, use the len() function.\n",
    "\n",
    "#Example\n",
    "#The len() function returns the length of a string:\n",
    "\n",
    "a = \"Hiii, my name is Shreyash\"\n",
    "print(len(a))"
   ]
  },
  {
   "cell_type": "code",
   "execution_count": 14,
   "id": "821ab09a",
   "metadata": {},
   "outputs": [
    {
     "name": "stdout",
     "output_type": "stream",
     "text": [
      "True\n"
     ]
    }
   ],
   "source": [
    "#Check String\n",
    "#To check if a certain phrase or character is present in a string, we can use the keyword in.\n",
    "\n",
    "#Example\n",
    "#Check if \"free\" is present in the following text:\n",
    "\n",
    "txt = \"Hiii, my name is Shreyash\"\n",
    "print(\"is\" in txt)"
   ]
  },
  {
   "cell_type": "code",
   "execution_count": 15,
   "id": "726899ec",
   "metadata": {},
   "outputs": [
    {
     "name": "stdout",
     "output_type": "stream",
     "text": [
      "Yes, 'free' is present.\n"
     ]
    }
   ],
   "source": [
    "#Use it in an if statement:\n",
    "\n",
    "#Example\n",
    "#Print only if \"free\" is present:\n",
    "\n",
    "txt = \"The best things in life are free!\"\n",
    "if \"free\" in txt:\n",
    "  print(\"Yes, 'free' is present.\")"
   ]
  },
  {
   "cell_type": "code",
   "execution_count": 20,
   "id": "7aa009d9",
   "metadata": {},
   "outputs": [
    {
     "name": "stdout",
     "output_type": "stream",
     "text": [
      "No, 'expensive' is NOT present.\n"
     ]
    }
   ],
   "source": [
    "#Use it in an if statement:\n",
    "\n",
    "#Example\n",
    "#print only if \"expensive\" is NOT present:\n",
    "\n",
    "txt = \"The best things in life are free!\"\n",
    "if \"expensive\" not in txt:\n",
    "  print(\"No, 'expensive' is NOT present.\")"
   ]
  },
  {
   "cell_type": "code",
   "execution_count": null,
   "id": "7c1209c4",
   "metadata": {},
   "outputs": [],
   "source": []
  }
 ],
 "metadata": {
  "kernelspec": {
   "display_name": "Python 3 (ipykernel)",
   "language": "python",
   "name": "python3"
  },
  "language_info": {
   "codemirror_mode": {
    "name": "ipython",
    "version": 3
   },
   "file_extension": ".py",
   "mimetype": "text/x-python",
   "name": "python",
   "nbconvert_exporter": "python",
   "pygments_lexer": "ipython3",
   "version": "3.10.9"
  }
 },
 "nbformat": 4,
 "nbformat_minor": 5
}
