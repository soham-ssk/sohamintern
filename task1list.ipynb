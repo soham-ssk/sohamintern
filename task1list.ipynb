{
 "cells": [
  {
   "cell_type": "code",
   "execution_count": 2,
   "id": "4c77d6cd-b69c-47a0-8fab-13d68a14aecb",
   "metadata": {},
   "outputs": [
    {
     "data": {
      "text/plain": [
       "['bmv', 56, 'audi', 600, 'kawasaki', 800, 'mercerdice']"
      ]
     },
     "execution_count": 2,
     "metadata": {},
     "output_type": "execute_result"
    }
   ],
   "source": [
    "#list creation []\n",
    "l1= [\"bmv\",56,\"audi\",600,\"kawasaki\",800,\"mercerdice\"]\n",
    "l1"
   ]
  },
  {
   "cell_type": "code",
   "execution_count": 3,
   "id": "3b4c9d39-86cc-4bdf-b4f0-38ac2161c04d",
   "metadata": {},
   "outputs": [
    {
     "data": {
      "text/plain": [
       "int"
      ]
     },
     "execution_count": 3,
     "metadata": {},
     "output_type": "execute_result"
    }
   ],
   "source": [
    "type(11)"
   ]
  },
  {
   "cell_type": "code",
   "execution_count": 4,
   "id": "69c70b8e-a160-475a-807f-2660287e1184",
   "metadata": {},
   "outputs": [],
   "source": [
    "#empty list \n",
    "my_list =[]"
   ]
  },
  {
   "cell_type": "code",
   "execution_count": 5,
   "id": "3f3e851f-46d6-4dfc-ae9c-df1a3b98b056",
   "metadata": {},
   "outputs": [
    {
     "data": {
      "text/plain": [
       "[]"
      ]
     },
     "execution_count": 5,
     "metadata": {},
     "output_type": "execute_result"
    }
   ],
   "source": [
    "my_list"
   ]
  },
  {
   "cell_type": "code",
   "execution_count": 10,
   "id": "213738ac-5668-493a-918a-59aa93dd2756",
   "metadata": {},
   "outputs": [],
   "source": [
    "# list of integer\n",
    "my_list =[5,8,6]"
   ]
  },
  {
   "cell_type": "code",
   "execution_count": 11,
   "id": "b9ff3e87-7f62-4c40-bab2-75a20f44e614",
   "metadata": {},
   "outputs": [
    {
     "data": {
      "text/plain": [
       "[5, 8, 6]"
      ]
     },
     "execution_count": 11,
     "metadata": {},
     "output_type": "execute_result"
    }
   ],
   "source": [
    "my_list"
   ]
  },
  {
   "cell_type": "code",
   "execution_count": 13,
   "id": "41483206-fab6-44fa-b083-91dc7437088e",
   "metadata": {},
   "outputs": [],
   "source": [
    "# list with mix datatypes\n",
    "my_list=[5,\"hello\",8.9]"
   ]
  },
  {
   "cell_type": "code",
   "execution_count": 15,
   "id": "7741984c-9c2e-45d9-bd81-8a327f4633c7",
   "metadata": {},
   "outputs": [],
   "source": [
    "#nested list\n",
    "my_list=[[\"tiger\",9,8],4,['y']]"
   ]
  },
  {
   "cell_type": "code",
   "execution_count": 16,
   "id": "58e5707b-ea14-4742-9ef3-315e30de3a60",
   "metadata": {},
   "outputs": [
    {
     "data": {
      "text/plain": [
       "[['tiger', 9, 8], 4, ['y']]"
      ]
     },
     "execution_count": 16,
     "metadata": {},
     "output_type": "execute_result"
    }
   ],
   "source": [
    "my_list"
   ]
  },
  {
   "cell_type": "code",
   "execution_count": 20,
   "id": "4313fb7a-5bcb-43e0-8bbb-2c98b29de7d1",
   "metadata": {},
   "outputs": [
    {
     "data": {
      "text/plain": [
       "'kawasaki'"
      ]
     },
     "execution_count": 20,
     "metadata": {},
     "output_type": "execute_result"
    }
   ],
   "source": [
    "#accesing the items\n",
    "l1[4]"
   ]
  },
  {
   "cell_type": "code",
   "execution_count": 25,
   "id": "506dc570-f6bf-4e77-bdba-775edcf5c387",
   "metadata": {},
   "outputs": [],
   "source": [
    "my_list=['s','o','h','a','m']"
   ]
  },
  {
   "cell_type": "code",
   "execution_count": 26,
   "id": "69418e40-f701-4bf9-b792-25148f5b6085",
   "metadata": {},
   "outputs": [
    {
     "data": {
      "text/plain": [
       "'a'"
      ]
     },
     "execution_count": 26,
     "metadata": {},
     "output_type": "execute_result"
    }
   ],
   "source": [
    "my_list[-2]"
   ]
  },
  {
   "cell_type": "code",
   "execution_count": 27,
   "id": "8f39acdc-7f51-4141-a6ba-a4b194aa4cac",
   "metadata": {},
   "outputs": [
    {
     "data": {
      "text/plain": [
       "['s', 'o', 'h', 'a', 'm']"
      ]
     },
     "execution_count": 27,
     "metadata": {},
     "output_type": "execute_result"
    }
   ],
   "source": [
    "my_list[:]"
   ]
  },
  {
   "cell_type": "code",
   "execution_count": 28,
   "id": "062e34c2-c2b5-47ff-9fdf-2a6d493afd31",
   "metadata": {},
   "outputs": [
    {
     "data": {
      "text/plain": [
       "'m'"
      ]
     },
     "execution_count": 28,
     "metadata": {},
     "output_type": "execute_result"
    }
   ],
   "source": [
    "my_list[4]"
   ]
  },
  {
   "cell_type": "code",
   "execution_count": 29,
   "id": "2ade5185-ea50-4a94-a115-91f49f100f46",
   "metadata": {},
   "outputs": [],
   "source": [
    "#nested list \n",
    "n_list=[\"soham\",[2,8,0,[5]]]"
   ]
  },
  {
   "cell_type": "code",
   "execution_count": 34,
   "id": "b392a857-85a5-486d-8131-010aa20df8ae",
   "metadata": {},
   "outputs": [
    {
     "data": {
      "text/plain": [
       "5"
      ]
     },
     "execution_count": 34,
     "metadata": {},
     "output_type": "execute_result"
    }
   ],
   "source": [
    "n_list[-1][3][-1]\n"
   ]
  },
  {
   "cell_type": "code",
   "execution_count": 36,
   "id": "105711ca-0c4a-4fc7-9b4a-913a303db58b",
   "metadata": {},
   "outputs": [
    {
     "data": {
      "text/plain": [
       "[5]"
      ]
     },
     "execution_count": 36,
     "metadata": {},
     "output_type": "execute_result"
    }
   ],
   "source": [
    "n_list[1][3]"
   ]
  },
  {
   "cell_type": "code",
   "execution_count": 37,
   "id": "8c4299b3-e277-4e15-a319-df1579362432",
   "metadata": {},
   "outputs": [],
   "source": [
    "my_list=['s','o','h','a','m']"
   ]
  },
  {
   "cell_type": "code",
   "execution_count": 39,
   "id": "f9ec623d-c4f8-4efc-8c88-0502b6fe593b",
   "metadata": {},
   "outputs": [
    {
     "name": "stdout",
     "output_type": "stream",
     "text": [
      "a\n"
     ]
    }
   ],
   "source": [
    "print(my_list[3])"
   ]
  },
  {
   "cell_type": "code",
   "execution_count": 40,
   "id": "961ce99f-d233-477a-ab2a-7486451a698a",
   "metadata": {},
   "outputs": [],
   "source": [
    "#slicing-we can access a range of items in a list by using the slicing operator\n",
    "my_list=['s','u','c','e','s','s']"
   ]
  },
  {
   "cell_type": "code",
   "execution_count": 41,
   "id": "cdb397d9-4df6-4aa9-ab2b-a3188de0d9b8",
   "metadata": {},
   "outputs": [
    {
     "data": {
      "text/plain": [
       "['s', 'u', 'c', 'e', 's', 's']"
      ]
     },
     "execution_count": 41,
     "metadata": {},
     "output_type": "execute_result"
    }
   ],
   "source": [
    "my_list[:]"
   ]
  },
  {
   "cell_type": "code",
   "execution_count": 42,
   "id": "e090e829-692d-42b0-926a-c2b6e25c26ab",
   "metadata": {},
   "outputs": [
    {
     "data": {
      "text/plain": [
       "['c', 'e', 's']"
      ]
     },
     "execution_count": 42,
     "metadata": {},
     "output_type": "execute_result"
    }
   ],
   "source": [
    "(my_list[2:5])"
   ]
  },
  {
   "cell_type": "code",
   "execution_count": 44,
   "id": "f425c8e6-4248-4827-abad-1bf9094f1d77",
   "metadata": {},
   "outputs": [],
   "source": [
    "#change the item value\n",
    "l1[2]=\"chocolate\"\n"
   ]
  },
  {
   "cell_type": "code",
   "execution_count": 45,
   "id": "a5ff69e1-50a0-42f6-8645-992138a96c98",
   "metadata": {},
   "outputs": [
    {
     "data": {
      "text/plain": [
       "['bmv', 56, 'chocolate', 600, 'kawasaki', 800, 'mercerdice']"
      ]
     },
     "execution_count": 45,
     "metadata": {},
     "output_type": "execute_result"
    }
   ],
   "source": [
    "l1"
   ]
  },
  {
   "cell_type": "code",
   "execution_count": 48,
   "id": "1fb08e69-3194-4bd3-a4d4-f8d54fb13071",
   "metadata": {},
   "outputs": [
    {
     "data": {
      "text/plain": [
       "7"
      ]
     },
     "execution_count": 48,
     "metadata": {},
     "output_type": "execute_result"
    }
   ],
   "source": [
    "#list length\n",
    "len(l1)"
   ]
  },
  {
   "cell_type": "code",
   "execution_count": 51,
   "id": "c146cfc9-588b-4e8a-bcdd-19917618d804",
   "metadata": {},
   "outputs": [
    {
     "data": {
      "text/plain": [
       "[33, 45, 56, 59, 78]"
      ]
     },
     "execution_count": 51,
     "metadata": {},
     "output_type": "execute_result"
    }
   ],
   "source": [
    "#1-append()-appends an elements to the end of the list.\n",
    "x=[\"apple\",\"graps\",\"mango\",1,2,3]\n",
    "x.append(\"mango\")\n",
    "y=[56,33,45,59,78]\n",
    "y.sort()\n",
    "y"
   ]
  },
  {
   "cell_type": "code",
   "execution_count": null,
   "id": "1c18b3fd-8f51-4957-8d9a-dd53ed598fb5",
   "metadata": {},
   "outputs": [],
   "source": []
  }
 ],
 "metadata": {
  "kernelspec": {
   "display_name": "Python 3 (ipykernel)",
   "language": "python",
   "name": "python3"
  },
  "language_info": {
   "codemirror_mode": {
    "name": "ipython",
    "version": 3
   },
   "file_extension": ".py",
   "mimetype": "text/x-python",
   "name": "python",
   "nbconvert_exporter": "python",
   "pygments_lexer": "ipython3",
   "version": "3.11.7"
  }
 },
 "nbformat": 4,
 "nbformat_minor": 5
}
