{
 "cells": [
  {
   "cell_type": "code",
   "execution_count": 8,
   "id": "b8af1fbc",
   "metadata": {},
   "outputs": [
    {
     "name": "stdout",
     "output_type": "stream",
     "text": [
      "('Hiii', 'Hellooo', 'Byee')\n"
     ]
    }
   ],
   "source": [
    "#Tuple\n",
    "#Tuples are used to store multiple items in a single variable.\n",
    "\n",
    "#Tuple is one of 4 built-in data types in Python used to store collections of data, the other 3 are List, Set, and Dictionary, all with different qualities and usage.\n",
    "\n",
    "#A tuple is a collection which is ordered and unchangeable.\n",
    "\n",
    "#Tuples are written with round brackets.\n",
    "\n",
    "#Example\n",
    "#Create a Tuple:\n",
    "\n",
    "tuple = (\"Hiii\", \"Hellooo\", \"Byee\")\n",
    "print(tuple)"
   ]
  },
  {
   "cell_type": "code",
   "execution_count": 2,
   "id": "3dccac91",
   "metadata": {},
   "outputs": [],
   "source": [
    "#Tuple Items\n",
    "#Tuple items are ordered, unchangeable, and allow duplicate values.\n",
    "\n",
    "#Tuple items are indexed, the first item has index [0], the second item has index [1] etc.\n",
    "\n",
    "#Ordered\n",
    "#When we say that tuples are ordered, it means that the items have a defined order, and that order will not change.\n",
    "\n",
    "#Unchangeable\n",
    "#Tuples are unchangeable, meaning that we cannot change, add or remove items after the tuple has been created."
   ]
  },
  {
   "cell_type": "code",
   "execution_count": 9,
   "id": "51902517",
   "metadata": {},
   "outputs": [
    {
     "name": "stdout",
     "output_type": "stream",
     "text": [
      "('Hiii', 'Hellooo', 'Hiii', 'Byee')\n"
     ]
    }
   ],
   "source": [
    "#Allow Duplicates\n",
    "#Since tuples are indexed, they can have items with the same value:\n",
    "\n",
    "#Example\n",
    "#Tuples allow duplicate values:\n",
    "\n",
    "tuple = (\"Hiii\", \"Hellooo\", \"Hiii\", \"Byee\")\n",
    "print(tuple)"
   ]
  },
  {
   "cell_type": "code",
   "execution_count": 10,
   "id": "b867663f",
   "metadata": {},
   "outputs": [
    {
     "name": "stdout",
     "output_type": "stream",
     "text": [
      "3\n"
     ]
    }
   ],
   "source": [
    "#Tuple Length\n",
    "#To determine how many items a tuple has, use the len() function:\n",
    "\n",
    "#Example\n",
    "#Print the number of items in the tuple:\n",
    "\n",
    "tuple = (\"Hiii\", \"Hellooo\", \"Byee\")\n",
    "print(len(tuple))"
   ]
  },
  {
   "cell_type": "code",
   "execution_count": 11,
   "id": "b5b7c3cb",
   "metadata": {},
   "outputs": [
    {
     "name": "stdout",
     "output_type": "stream",
     "text": [
      "<class 'tuple'>\n",
      "<class 'str'>\n"
     ]
    }
   ],
   "source": [
    "#Create Tuple With One Item\n",
    "#To create a tuple with only one item, you have to add a comma after the item, otherwise Python will not recognize it as a tuple.\n",
    "\n",
    "#Example\n",
    "#One item tuple, remember the comma:\n",
    "\n",
    "tuple = (\"Hi\",)\n",
    "print(type(tuple))\n",
    "\n",
    "#NOT a tuple\n",
    "tuple = (\"HI\")\n",
    "print(type(tuple))\n"
   ]
  },
  {
   "cell_type": "code",
   "execution_count": 13,
   "id": "cfd42ab5",
   "metadata": {},
   "outputs": [
    {
     "name": "stdout",
     "output_type": "stream",
     "text": [
      "('Hiii', 'Hellooo', 'Byee')\n",
      "(1, 5, 7, 9, 3)\n",
      "(True, False, False)\n"
     ]
    }
   ],
   "source": [
    "#Tuple Items - Data Types\n",
    "#Tuple items can be of any data type:\n",
    "\n",
    "#Example\n",
    "#String, int and boolean data types:\n",
    "\n",
    "tuple1 = (\"Hiii\", \"Hellooo\", \"Byee\")\n",
    "tuple2 = (1, 5, 7, 9, 3)\n",
    "tuple3 = (True, False, False)\n",
    "\n",
    "print(tuple1)\n",
    "print(tuple2)\n",
    "print(tuple3)"
   ]
  },
  {
   "cell_type": "code",
   "execution_count": 15,
   "id": "6bc4876d",
   "metadata": {},
   "outputs": [
    {
     "name": "stdout",
     "output_type": "stream",
     "text": [
      "('abc', 34, True, 40, 'male')\n"
     ]
    }
   ],
   "source": [
    "#A tuple can contain different data types:\n",
    "\n",
    "#Example\n",
    "#A tuple with strings, integers and boolean values:\n",
    "\n",
    "tuple1 = (\"abc\", 34, True, 40, \"male\")\n",
    "print(tuple1)"
   ]
  },
  {
   "cell_type": "code",
   "execution_count": 16,
   "id": "358d3805",
   "metadata": {},
   "outputs": [
    {
     "name": "stdout",
     "output_type": "stream",
     "text": [
      "<class 'tuple'>\n"
     ]
    }
   ],
   "source": [
    "#type()\n",
    "#From Python's perspective, tuples are defined as objects with the data type 'tuple':\n",
    "\n",
    "#<class 'tuple'>\n",
    "#Example\n",
    "#What is the data type of a tuple?\n",
    "\n",
    "tuple1 = (\"apple\", \"banana\", \"cherry\")\n",
    "print(type(tuple1))"
   ]
  },
  {
   "cell_type": "code",
   "execution_count": null,
   "id": "dc9a0fcb",
   "metadata": {},
   "outputs": [],
   "source": []
  }
 ],
 "metadata": {
  "kernelspec": {
   "display_name": "Python 3 (ipykernel)",
   "language": "python",
   "name": "python3"
  },
  "language_info": {
   "codemirror_mode": {
    "name": "ipython",
    "version": 3
   },
   "file_extension": ".py",
   "mimetype": "text/x-python",
   "name": "python",
   "nbconvert_exporter": "python",
   "pygments_lexer": "ipython3",
   "version": "3.10.9"
  }
 },
 "nbformat": 4,
 "nbformat_minor": 5
}
