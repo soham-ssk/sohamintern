{
 "cells": [
  {
   "cell_type": "code",
   "execution_count": 1,
   "id": "dbc2c8c7",
   "metadata": {},
   "outputs": [
    {
     "name": "stdout",
     "output_type": "stream",
     "text": [
      "{'apple', 'banana', 'cherry'}\n"
     ]
    }
   ],
   "source": [
    "#Set:\n",
    "#Sets are used to store multiple items in a single variable.\n",
    "\n",
    "#Set is one of 4 built-in data types in Python used to store collections of data, the other 3 are List, Tuple, and Dictionary, all with different qualities and usage.\n",
    "\n",
    "#A set is a collection which is unordered, unchangeable*, and unindexed.\n",
    "\n",
    "#Sets are written with curly brackets.\n",
    "\n",
    "#Example\n",
    "#Create a Set:\n",
    "\n",
    "S1= {\"apple\", \"banana\", \"cherry\"}\n",
    "print(S1)"
   ]
  },
  {
   "cell_type": "code",
   "execution_count": 2,
   "id": "1d389f62",
   "metadata": {},
   "outputs": [],
   "source": [
    "#Set Items:\n",
    "#Set items are unordered, unchangeable, and do not allow duplicate values.\n",
    "\n",
    "#Unordered:\n",
    "#Unordered means that the items in a set do not have a defined order.\n",
    "\n",
    "#Set items can appear in a different order every time you use them, and cannot be referred to by index or key.\n",
    "\n",
    "#Unchangeable:\n",
    "#Set items are unchangeable, meaning that we cannot change the items after the set has been created.\n",
    "\n",
    "#Once a set is created, you cannot change its items, but you can remove items and add new items."
   ]
  },
  {
   "cell_type": "code",
   "execution_count": 3,
   "id": "b68dbf2a",
   "metadata": {},
   "outputs": [
    {
     "name": "stdout",
     "output_type": "stream",
     "text": [
      "{'apple', 'banana', 'cherry'}\n"
     ]
    }
   ],
   "source": [
    "#Duplicates Not Allowed:\n",
    "#Sets cannot have two items with the same value.\n",
    "\n",
    "#Example\n",
    "#Duplicate values will be ignored:\n",
    "\n",
    "S2 = {\"apple\", \"banana\", \"cherry\", \"apple\"}\n",
    "print(S2)"
   ]
  },
  {
   "cell_type": "code",
   "execution_count": 5,
   "id": "40f18350",
   "metadata": {},
   "outputs": [
    {
     "name": "stdout",
     "output_type": "stream",
     "text": [
      "{True, 2, 'apple', 'banana', 'cherry'}\n"
     ]
    }
   ],
   "source": [
    "#The values True and 1 are considered the same value in sets, and are treated as duplicates:\n",
    "#Example\n",
    "#True and 1 is considered the same value:\n",
    "\n",
    "S3 = {\"apple\", \"banana\", \"cherry\", True, 1, 2}\n",
    "print(S3)"
   ]
  },
  {
   "cell_type": "code",
   "execution_count": 6,
   "id": "03fd6353",
   "metadata": {},
   "outputs": [
    {
     "name": "stdout",
     "output_type": "stream",
     "text": [
      "{False, True, 'apple', 'banana', 'cherry'}\n"
     ]
    }
   ],
   "source": [
    "#The values False and 0 are considered the same value in sets, and are treated as duplicates:\n",
    "\n",
    "#Example\n",
    "#False and 0 is considered the same value:\n",
    "\n",
    "S4= {\"apple\", \"banana\", \"cherry\", False, True, 0}\n",
    "print(S4)"
   ]
  },
  {
   "cell_type": "code",
   "execution_count": 7,
   "id": "af65d03e",
   "metadata": {},
   "outputs": [
    {
     "name": "stdout",
     "output_type": "stream",
     "text": [
      "3\n"
     ]
    }
   ],
   "source": [
    "#Get the Length of a Set:\n",
    "#To determine how many items a set has, use the len() function.\n",
    "\n",
    "#Example\n",
    "#Get the number of items in a set:\n",
    "\n",
    "S1 = {\"apple\", \"banana\", \"cherry\"}\n",
    "print(len(S1))"
   ]
  },
  {
   "cell_type": "code",
   "execution_count": 8,
   "id": "756ceda5",
   "metadata": {},
   "outputs": [],
   "source": [
    "#Set Items - Data Types:\n",
    "#Set items can be of any data type:\n",
    "\n",
    "#Example\n",
    "#String, int and boolean data types:\n",
    "\n",
    "set1 = {\"apple\", \"banana\", \"cherry\"}\n",
    "set2 = {1, 5, 7, 9, 3}\n",
    "set3 = {True, False, False}"
   ]
  },
  {
   "cell_type": "code",
   "execution_count": 9,
   "id": "ec273408",
   "metadata": {},
   "outputs": [],
   "source": [
    "#A set can contain different data types:\n",
    "\n",
    "#Example\n",
    "#A set with strings, integers and boolean values:\n",
    "\n",
    "set1 = {\"abc\", 34, True, 40, \"male\"}"
   ]
  },
  {
   "cell_type": "code",
   "execution_count": 1,
   "id": "d61a749c",
   "metadata": {
    "scrolled": true
   },
   "outputs": [
    {
     "name": "stdout",
     "output_type": "stream",
     "text": [
      "<class 'set'>\n"
     ]
    }
   ],
   "source": [
    "#type():\n",
    "#From Python's perspective, sets are defined as objects with the data type 'set':\n",
    "\n",
    "#<class 'set'>\n",
    "#Example\n",
    "#What is the data type of a set?\n",
    "\n",
    "myset = {\"apple\", \"banana\", \"cherry\"}\n",
    "print(type(myset))"
   ]
  },
  {
   "cell_type": "code",
   "execution_count": 11,
   "id": "b187e3a9",
   "metadata": {},
   "outputs": [
    {
     "name": "stdout",
     "output_type": "stream",
     "text": [
      "{'apple', 'banana', 'cherry'}\n"
     ]
    }
   ],
   "source": [
    "#The set() Constructor\n",
    "#It is also possible to use the set() constructor to make a set.\n",
    "\n",
    "#Example\n",
    "#Using the set() constructor to make a set:\n",
    "\n",
    "thisset = set((\"apple\", \"banana\", \"cherry\")) # note the double round-brackets\n",
    "print(thisset)"
   ]
  },
  {
   "cell_type": "code",
   "execution_count": null,
   "id": "110fd335",
   "metadata": {},
   "outputs": [],
   "source": []
  }
 ],
 "metadata": {
  "kernelspec": {
   "display_name": "Python 3 (ipykernel)",
   "language": "python",
   "name": "python3"
  },
  "language_info": {
   "codemirror_mode": {
    "name": "ipython",
    "version": 3
   },
   "file_extension": ".py",
   "mimetype": "text/x-python",
   "name": "python",
   "nbconvert_exporter": "python",
   "pygments_lexer": "ipython3",
   "version": "3.10.9"
  }
 },
 "nbformat": 4,
 "nbformat_minor": 5
}
