{
 "cells": [
  {
   "cell_type": "code",
   "execution_count": null,
   "id": "a74790eb-849f-48b5-98b3-9209bb6d603a",
   "metadata": {},
   "outputs": [],
   "source": [
    "# selection \n",
    "# dataframe columns fromm a dataframe in python is a commmon operatoion when working with the 'pandas'libarary.here are several methods to select columns from a dataframe"
   ]
  },
  {
   "cell_type": "code",
   "execution_count": 2,
   "id": "4b5abc02-465e-4a67-b757-20acf4521161",
   "metadata": {},
   "outputs": [
    {
     "name": "stdout",
     "output_type": "stream",
     "text": [
      "Original DataFrame:\n",
      "    A   B    C     D\n",
      "0  1  10  100  1000\n",
      "1  2  20  200  2000\n",
      "2  3  30  300  3000\n",
      "3  4  40  400  4000\n",
      "4  5  50  500  5000\n"
     ]
    }
   ],
   "source": [
    "import pandas as pd\n",
    "\n",
    "# Create a sample DataFrame\n",
    "data = {\n",
    "    'A': [1, 2, 3, 4, 5],\n",
    "    'B': [10, 20, 30, 40, 50],\n",
    "    'C': [100, 200, 300, 400, 500],\n",
    "    'D': [1000, 2000, 3000, 4000, 5000]\n",
    "}\n",
    "\n",
    "df = pd.DataFrame(data)\n",
    "print(\"Original DataFrame:\\n\", df)"
   ]
  },
  {
   "cell_type": "code",
   "execution_count": 3,
   "id": "e2d9d537-4ff9-4eb0-9e75-1c5c0ef48e47",
   "metadata": {},
   "outputs": [
    {
     "name": "stdout",
     "output_type": "stream",
     "text": [
      "\n",
      "Column A:\n",
      " 0    1\n",
      "1    2\n",
      "2    3\n",
      "3    4\n",
      "4    5\n",
      "Name: A, dtype: int64\n",
      "\n",
      "Column B:\n",
      " 0    10\n",
      "1    20\n",
      "2    30\n",
      "3    40\n",
      "4    50\n",
      "Name: B, dtype: int64\n"
     ]
    }
   ],
   "source": [
    "#Selecting a Single Column\n",
    "#You can select a single column by using the column name in square brackets or using dot notation:\n",
    "# Using square brackets\n",
    "col_a = df['A']\n",
    "print(\"\\nColumn A:\\n\", col_a)\n",
    "\n",
    "# Using dot notation (only works if the column name is a valid Python identifier)\n",
    "col_b = df.B\n",
    "print(\"\\nColumn B:\\n\", col_b)\n"
   ]
  },
  {
   "cell_type": "code",
   "execution_count": 4,
   "id": "58cf229a-edb6-4fb4-9599-782af8ee4797",
   "metadata": {},
   "outputs": [
    {
     "name": "stdout",
     "output_type": "stream",
     "text": [
      "Original DataFrame:\n",
      "    A   B    C     D\n",
      "0  1  10  100  1000\n",
      "1  2  20  200  2000\n",
      "2  3  30  300  3000\n",
      "3  4  40  400  4000\n",
      "4  5  50  500  5000\n"
     ]
    }
   ],
   "source": [
    "#First, import pandas and create a sample DataFrame:\n",
    "import pandas as pd\n",
    "\n",
    "# Create a sample DataFrame\n",
    "data = {\n",
    "    'A': [1, 2, 3, 4, 5],\n",
    "    'B': [10, 20, 30, 40, 50],\n",
    "    'C': [100, 200, 300, 400, 500],\n",
    "    'D': [1000, 2000, 3000, 4000, 5000]\n",
    "}\n",
    "\n",
    "df = pd.DataFrame(data)\n",
    "print(\"Original DataFrame:\\n\", df)"
   ]
  },
  {
   "cell_type": "code",
   "execution_count": 5,
   "id": "70af83a8-c780-4c82-8e8a-b9e536283307",
   "metadata": {},
   "outputs": [
    {
     "name": "stdout",
     "output_type": "stream",
     "text": [
      "\n",
      "Rows where column A is greater than 3:\n",
      "    A   B    C     D\n",
      "3  4  40  400  4000\n",
      "4  5  50  500  5000\n"
     ]
    }
   ],
   "source": [
    "#Selecting Rows Based on a Condition\n",
    "#You can select rows based on conditions applied to one or more columns:\n",
    "\n",
    "#Example 1: Selecting rows where column A is greater than 3\n",
    "rows_a_gt_3 = df[df['A'] > 3]\n",
    "print(\"\\nRows where column A is greater than 3:\\n\", rows_a_gt_3)"
   ]
  },
  {
   "cell_type": "code",
   "execution_count": null,
   "id": "a78d296f-60ee-4d9b-bd80-a23ae34eec97",
   "metadata": {},
   "outputs": [],
   "source": [
    "# Conditional selection in pandas allows you to filter rows in a DataFrame based on specific conditions. These conditions can be applied to one or multiple columns using logical operators. Below are various examples of conditional selection to illustrate how it works."
   ]
  },
  {
   "cell_type": "code",
   "execution_count": 6,
   "id": "6e2442e8-3358-406e-a59a-7ad294a2b0fc",
   "metadata": {},
   "outputs": [
    {
     "name": "stdout",
     "output_type": "stream",
     "text": [
      "Original DataFrame:\n",
      "    A   B    C     D\n",
      "0  1  10  100  1000\n",
      "1  2  20  200  2000\n",
      "2  3  30  300  3000\n",
      "3  4  40  400  4000\n",
      "4  5  50  500  5000\n"
     ]
    }
   ],
   "source": [
    "import pandas as pd\n",
    "\n",
    "# Create a sample DataFrame\n",
    "data = {\n",
    "    'A': [1, 2, 3, 4, 5],\n",
    "    'B': [10, 20, 30, 40, 50],\n",
    "    'C': [100, 200, 300, 400, 500],\n",
    "    'D': [1000, 2000, 3000, 4000, 5000]\n",
    "}\n",
    "\n",
    "df = pd.DataFrame(data)\n",
    "print(\"Original DataFrame:\\n\", df)"
   ]
  },
  {
   "cell_type": "code",
   "execution_count": 7,
   "id": "5dbef241-fd32-41d5-9606-770509d17c23",
   "metadata": {},
   "outputs": [
    {
     "name": "stdout",
     "output_type": "stream",
     "text": [
      "\n",
      "Rows where column A is greater than 3:\n",
      "    A   B    C     D\n",
      "3  4  40  400  4000\n",
      "4  5  50  500  5000\n"
     ]
    }
   ],
   "source": [
    "#Selecting Rows Based on a Single Condition\n",
    "#Example 1: Selecting rows where column A is greater than 3\n",
    "rows_a_gt_3 = df[df['A'] > 3]\n",
    "print(\"\\nRows where column A is greater than 3:\\n\", rows_a_gt_3)"
   ]
  },
  {
   "cell_type": "code",
   "execution_count": null,
   "id": "ae1793ef-6640-4b69-8518-049ef3aaa70e",
   "metadata": {},
   "outputs": [],
   "source": [
    "# Working with columns in a pandas DataFrame involves adding new columns, deleting existing ones, and updating column values. Below are explanations and examples for each of these operations."
   ]
  },
  {
   "cell_type": "code",
   "execution_count": 8,
   "id": "e539552b-846f-4bf0-8ccf-f85f194a83f6",
   "metadata": {},
   "outputs": [
    {
     "name": "stdout",
     "output_type": "stream",
     "text": [
      "Original DataFrame:\n",
      "    A   B    C\n",
      "0  1  10  100\n",
      "1  2  20  200\n",
      "2  3  30  300\n",
      "3  4  40  400\n",
      "4  5  50  500\n"
     ]
    }
   ],
   "source": [
    "import pandas as pd\n",
    "\n",
    "# Create a sample DataFrame\n",
    "data = {\n",
    "    'A': [1, 2, 3, 4, 5],\n",
    "    'B': [10, 20, 30, 40, 50],\n",
    "    'C': [100, 200, 300, 400, 500]\n",
    "}\n",
    "\n",
    "df = pd.DataFrame(data)\n",
    "print(\"Original DataFrame:\\n\", df)"
   ]
  },
  {
   "cell_type": "code",
   "execution_count": 9,
   "id": "dff87170-e639-4127-ba8e-8bb9bba4bb21",
   "metadata": {},
   "outputs": [
    {
     "name": "stdout",
     "output_type": "stream",
     "text": [
      "\n",
      "DataFrame after adding a constant value column 'D':\n",
      "    A   B    C     D\n",
      "0  1  10  100  1000\n",
      "1  2  20  200  1000\n",
      "2  3  30  300  1000\n",
      "3  4  40  400  1000\n",
      "4  5  50  500  1000\n"
     ]
    }
   ],
   "source": [
    "#Adding Columns\n",
    "#Adding a Constant Value Column\n",
    "#You can add a new column with constant values:\n",
    "df['D'] = 1000\n",
    "print(\"\\nDataFrame after adding a constant value column 'D':\\n\", df)"
   ]
  },
  {
   "cell_type": "code",
   "execution_count": 10,
   "id": "8ae4fcd5-5365-4a51-91af-7cced15f7120",
   "metadata": {},
   "outputs": [
    {
     "name": "stdout",
     "output_type": "stream",
     "text": [
      "\n",
      "DataFrame after deleting the column 'D':\n",
      "    A   B    C\n",
      "0  1  10  100\n",
      "1  2  20  200\n",
      "2  3  30  300\n",
      "3  4  40  400\n",
      "4  5  50  500\n"
     ]
    }
   ],
   "source": [
    "#Deleting Columns\n",
    "#Using drop Method\n",
    "#You can delete columns using the drop method:\n",
    "df = df.drop('D', axis=1)\n",
    "print(\"\\nDataFrame after deleting the column 'D':\\n\", df)"
   ]
  },
  {
   "cell_type": "code",
   "execution_count": 11,
   "id": "2f044b8b-a0a5-490e-925f-5eaa98c0d5ea",
   "metadata": {},
   "outputs": [
    {
     "name": "stdout",
     "output_type": "stream",
     "text": [
      "\n",
      "DataFrame after updating the column 'A':\n",
      "     A   B    C\n",
      "0  10  10  100\n",
      "1  20  20  200\n",
      "2  30  30  300\n",
      "3  40  40  400\n",
      "4  50  50  500\n"
     ]
    }
   ],
   "source": [
    "#Updating Columns\n",
    "#Updating a Column with New Values\n",
    "#You can update an entire column with new values:\n",
    "df['A'] = [10, 20, 30, 40, 50]\n",
    "print(\"\\nDataFrame after updating the column 'A':\\n\", df)"
   ]
  },
  {
   "cell_type": "code",
   "execution_count": null,
   "id": "a99ccfd5-c232-402c-bf4a-6e55e994c15d",
   "metadata": {},
   "outputs": [],
   "source": [
    "#In pandas, an index is used to uniquely identify rows in a DataFrame. You can set, reset, and manipulate the index as needed. Here’s how you can work with the index in a DataFrame, including setting a column as an index and removing the index"
   ]
  },
  {
   "cell_type": "code",
   "execution_count": 12,
   "id": "14eab634-b487-47b1-ac38-35fd34239a04",
   "metadata": {},
   "outputs": [
    {
     "name": "stdout",
     "output_type": "stream",
     "text": [
      "Original DataFrame:\n",
      "    A   B    C\n",
      "0  1  10  100\n",
      "1  2  20  200\n",
      "2  3  30  300\n",
      "3  4  40  400\n",
      "4  5  50  500\n"
     ]
    }
   ],
   "source": [
    "import pandas as pd\n",
    "\n",
    "# Create a sample DataFrame\n",
    "data = {\n",
    "    'A': [1, 2, 3, 4, 5],\n",
    "    'B': [10, 20, 30, 40, 50],\n",
    "    'C': [100, 200, 300, 400, 500]\n",
    "}\n",
    "\n",
    "df = pd.DataFrame(data)\n",
    "print(\"Original DataFrame:\\n\", df)"
   ]
  },
  {
   "cell_type": "code",
   "execution_count": 13,
   "id": "edea0e55-b860-4497-95c9-e9a0318b8d5d",
   "metadata": {},
   "outputs": [
    {
     "name": "stdout",
     "output_type": "stream",
     "text": [
      "\n",
      "DataFrame with column 'A' as index:\n",
      "     B    C\n",
      "A         \n",
      "1  10  100\n",
      "2  20  200\n",
      "3  30  300\n",
      "4  40  400\n",
      "5  50  500\n"
     ]
    }
   ],
   "source": [
    "#Setting a Column as Index\n",
    "#You can set one of the columns as the index using the set_index method. This method returns a new DataFrame unless you specify inplace=True.\n",
    "\n",
    "#Example: Setting column A as the index\n",
    "df_indexed = df.set_index('A')\n",
    "print(\"\\nDataFrame with column 'A' as index:\\n\", df_indexed)"
   ]
  },
  {
   "cell_type": "code",
   "execution_count": 14,
   "id": "5f5d33dc-87d8-44d8-bb44-3918c52f058f",
   "metadata": {},
   "outputs": [
    {
     "name": "stdout",
     "output_type": "stream",
     "text": [
      "\n",
      "DataFrame after resetting and dropping the index:\n",
      "     B    C\n",
      "0  10  100\n",
      "1  20  200\n",
      "2  30  300\n",
      "3  40  400\n",
      "4  50  500\n"
     ]
    }
   ],
   "source": [
    "#Removing the Index Completely\n",
    "#If you want to remove the current index and replace it with a default integer index, you can reset the index and drop it.\n",
    "\n",
    "#Example: Resetting and dropping the index\n",
    "df_no_index = df_indexed.reset_index(drop=True)\n",
    "print(\"\\nDataFrame after resetting and dropping the index:\\n\", df_no_index)"
   ]
  },
  {
   "cell_type": "code",
   "execution_count": null,
   "id": "edd18449-4a6b-405e-b3d9-8f41bed2c6a7",
   "metadata": {},
   "outputs": [],
   "source": []
  }
 ],
 "metadata": {
  "kernelspec": {
   "display_name": "Python 3 (ipykernel)",
   "language": "python",
   "name": "python3"
  },
  "language_info": {
   "codemirror_mode": {
    "name": "ipython",
    "version": 3
   },
   "file_extension": ".py",
   "mimetype": "text/x-python",
   "name": "python",
   "nbconvert_exporter": "python",
   "pygments_lexer": "ipython3",
   "version": "3.11.7"
  }
 },
 "nbformat": 4,
 "nbformat_minor": 5
}
