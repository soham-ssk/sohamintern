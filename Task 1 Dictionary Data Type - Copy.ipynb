{
 "cells": [
  {
   "cell_type": "code",
   "execution_count": 1,
   "id": "2dd3753f",
   "metadata": {},
   "outputs": [
    {
     "name": "stdout",
     "output_type": "stream",
     "text": [
      "{'brand': 'Ford', 'model': 'Mustang', 'year': 1964}\n"
     ]
    }
   ],
   "source": [
    "#Dictionary:\n",
    "#Dictionaries are used to store data values in key:value pairs.\n",
    "#A dictionary is a collection which is ordered*, changeable and do not allow duplicates.\n",
    "\n",
    "#Dictionaries are written with curly brackets, and have keys and values:\n",
    "\n",
    "#ExampleGet your own Python Server\n",
    "#Create and print a dictionary:\n",
    "\n",
    "D1 = {\n",
    "  \"brand\": \"Ford\",\n",
    "  \"model\": \"Mustang\",\n",
    "  \"year\": 1964\n",
    "}\n",
    "print(D1)"
   ]
  },
  {
   "cell_type": "code",
   "execution_count": 2,
   "id": "7ab62d90",
   "metadata": {},
   "outputs": [
    {
     "name": "stdout",
     "output_type": "stream",
     "text": [
      "Ford\n"
     ]
    }
   ],
   "source": [
    "#Dictionary Items:\n",
    "#Dictionary items are ordered, changeable, and do not allow duplicates.\n",
    "\n",
    "#Dictionary items are presented in key:value pairs, and can be referred to by using the key name.\n",
    "\n",
    "#Example\n",
    "#Print the \"brand\" value of the dictionary:\n",
    "\n",
    "D1 = {\n",
    "  \"brand\": \"Ford\",\n",
    "  \"model\": \"Mustang\",\n",
    "  \"year\": 1964\n",
    "}\n",
    "print(D1[\"brand\"])"
   ]
  },
  {
   "cell_type": "code",
   "execution_count": 3,
   "id": "4d72fe0d",
   "metadata": {},
   "outputs": [],
   "source": [
    "#Ordered or Unordered?:\n",
    "#As of Python version 3.7, dictionaries are ordered. In Python 3.6 and earlier, dictionaries are unordered.\n",
    "\n",
    "#When we say that dictionaries are ordered, it means that the items have a defined order, and that order will not change.\n",
    "\n",
    "#Unordered means that the items do not have a defined order, you cannot refer to an item by using an index.\n",
    "\n",
    "#Changeable:\n",
    "#Dictionaries are changeable, meaning that we can change, add or remove items after the dictionary has been created."
   ]
  },
  {
   "cell_type": "code",
   "execution_count": 4,
   "id": "fb0549bc",
   "metadata": {},
   "outputs": [
    {
     "name": "stdout",
     "output_type": "stream",
     "text": [
      "{'brand': 'Ford', 'model': 'Mustang', 'year': 2020}\n"
     ]
    }
   ],
   "source": [
    "\n",
    "#Duplicates Not Allowed:\n",
    "#Dictionaries cannot have two items with the same key:\n",
    "\n",
    "#Example\n",
    "#Duplicate values will overwrite existing values:\n",
    "\n",
    "D2 = {\n",
    "  \"brand\": \"Ford\",\n",
    "  \"model\": \"Mustang\",\n",
    "  \"year\": 1964,\n",
    "  \"year\": 2020\n",
    "}\n",
    "print(D2)"
   ]
  },
  {
   "cell_type": "code",
   "execution_count": 3,
   "id": "d4f2f932",
   "metadata": {},
   "outputs": [
    {
     "name": "stdout",
     "output_type": "stream",
     "text": [
      "3\n"
     ]
    }
   ],
   "source": [
    "#Dictionary Length:\n",
    "#To determine how many items a dictionary has, use the len() function:\n",
    "\n",
    "#Example\n",
    "#Print the number of items in the dictionary:\n",
    "\n",
    "print(len(D1))"
   ]
  },
  {
   "cell_type": "code",
   "execution_count": 4,
   "id": "7ffc3418",
   "metadata": {},
   "outputs": [],
   "source": [
    "#Dictionary Items - Data Types:\n",
    "#The values in dictionary items can be of any data type:\n",
    "\n",
    "#Example\n",
    "#String, int, boolean, and list data types:\n",
    "\n",
    "D3 = {\n",
    "  \"brand\": \"Ford\",\n",
    "  \"electric\": False,\n",
    "  \"year\": 1964,\n",
    "  \"colors\": [\"red\", \"white\", \"blue\"]\n",
    "}"
   ]
  },
  {
   "cell_type": "code",
   "execution_count": 5,
   "id": "50ec3e8f",
   "metadata": {},
   "outputs": [
    {
     "name": "stdout",
     "output_type": "stream",
     "text": [
      "<class 'dict'>\n"
     ]
    }
   ],
   "source": [
    "#type():\n",
    "#From Python's perspective, dictionaries are defined as objects with the data type 'dict':\n",
    "\n",
    "#<class 'dict'>\n",
    "#Example\n",
    "#Print the data type of a dictionary:\n",
    "\n",
    "D4 = {\n",
    "  \"brand\": \"Ford\",\n",
    "  \"model\": \"Mustang\",\n",
    "  \"year\": 1964\n",
    "}\n",
    "print(type(D4))"
   ]
  },
  {
   "cell_type": "code",
   "execution_count": 6,
   "id": "b41ed85c",
   "metadata": {},
   "outputs": [
    {
     "name": "stdout",
     "output_type": "stream",
     "text": [
      "{'name': 'Shreyash', 'age': 22, 'country': 'IND'}\n"
     ]
    }
   ],
   "source": [
    "#The dict() Constructor:\n",
    "#It is also possible to use the dict() constructor to make a dictionary.\n",
    "\n",
    "#Example\n",
    "#Using the dict() method to make a dictionary:\n",
    "\n",
    "D5 = dict(name = \"Shreyash\", age = 22, country = \"IND\")\n",
    "print(D5)"
   ]
  },
  {
   "cell_type": "code",
   "execution_count": 7,
   "id": "6b0e6f9f",
   "metadata": {},
   "outputs": [
    {
     "data": {
      "text/plain": [
       "{'brand': 'Ford', 'model': 'Mustang', 'year': 1964}"
      ]
     },
     "execution_count": 7,
     "metadata": {},
     "output_type": "execute_result"
    }
   ],
   "source": [
    "D1"
   ]
  },
  {
   "cell_type": "code",
   "execution_count": 13,
   "id": "906ca81f",
   "metadata": {},
   "outputs": [],
   "source": [
    "D1.clear()"
   ]
  },
  {
   "cell_type": "code",
   "execution_count": 14,
   "id": "7d42b615",
   "metadata": {},
   "outputs": [
    {
     "data": {
      "text/plain": [
       "{}"
      ]
     },
     "execution_count": 14,
     "metadata": {},
     "output_type": "execute_result"
    }
   ],
   "source": [
    "D=D1.copy()\n",
    "D"
   ]
  },
  {
   "cell_type": "code",
   "execution_count": null,
   "id": "54ee5dd3",
   "metadata": {},
   "outputs": [],
   "source": []
  }
 ],
 "metadata": {
  "kernelspec": {
   "display_name": "Python 3 (ipykernel)",
   "language": "python",
   "name": "python3"
  },
  "language_info": {
   "codemirror_mode": {
    "name": "ipython",
    "version": 3
   },
   "file_extension": ".py",
   "mimetype": "text/x-python",
   "name": "python",
   "nbconvert_exporter": "python",
   "pygments_lexer": "ipython3",
   "version": "3.10.9"
  }
 },
 "nbformat": 4,
 "nbformat_minor": 5
}
