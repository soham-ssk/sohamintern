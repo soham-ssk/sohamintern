{
 "cells": [
  {
   "cell_type": "code",
   "execution_count": null,
   "id": "76226810-4cf0-456d-aa63-f539a5ecb242",
   "metadata": {},
   "outputs": [],
   "source": [
    "# statistical user defined function 10 like mean,var,mediun\n",
    "\n"
   ]
  },
  {
   "cell_type": "code",
   "execution_count": null,
   "id": "b431eb32-be8c-4077-bd0e-cc47e672e5dc",
   "metadata": {},
   "outputs": [],
   "source": [
    "# mean method \n",
    " often referred to as the average ,is a measure of central tendency that is commonly used in statistical.\n"
   ]
  },
  {
   "cell_type": "code",
   "execution_count": 11,
   "id": "da88a4d2-e2bf-42b0-ac04-ccd119e231da",
   "metadata": {},
   "outputs": [
    {
     "name": "stdout",
     "output_type": "stream",
     "text": [
      "mean: 15\n"
     ]
    }
   ],
   "source": [
    "def mean(data):\n",
    "    if len(data)==0:\n",
    "    \n",
    "     return o\n",
    "    return sum(data)\n",
    "data=[1,2,3,4,5]\n",
    "mean_value= mean(data)\n",
    "print(\"mean:\", mean_value)"
   ]
  },
  {
   "cell_type": "code",
   "execution_count": null,
   "id": "534a575d-f20e-42e5-9ea3-72b6797b64e6",
   "metadata": {},
   "outputs": [],
   "source": [
    "# median method \n",
    " "
   ]
  },
  {
   "cell_type": "code",
   "execution_count": 16,
   "id": "50597b36-a289-49ec-a7d1-88bff9e6c4c4",
   "metadata": {},
   "outputs": [
    {
     "name": "stdout",
     "output_type": "stream",
     "text": [
      "Median of data-set is : 3.5 \n"
     ]
    }
   ],
   "source": [
    "import statistics\n",
    " \n",
    "\n",
    "data1 = [2, -2, 3, 6, 9, 4, 5, -1]\n",
    " \n",
    "print(\"Median of data-set is : % s \"\n",
    "        % (statistics.median(data1)))\n"
   ]
  },
  {
   "cell_type": "code",
   "execution_count": null,
   "id": "5a293d26-4f9f-427e-a722-eda3e29beb2f",
   "metadata": {},
   "outputs": [],
   "source": [
    "# range method"
   ]
  },
  {
   "cell_type": "code",
   "execution_count": 17,
   "id": "097cdaaf-d0f7-48f8-a913-0796e15e975a",
   "metadata": {},
   "outputs": [
    {
     "name": "stdout",
     "output_type": "stream",
     "text": [
      "3\n",
      "5\n",
      "7\n",
      "9\n",
      "11\n",
      "13\n",
      "15\n",
      "17\n",
      "19\n"
     ]
    }
   ],
   "source": [
    "x = range(3, 20, 2)\n",
    "for n in x:\n",
    "  print(n)"
   ]
  },
  {
   "cell_type": "code",
   "execution_count": null,
   "id": "2beb5e72-69a5-4358-ab9e-8dec61275078",
   "metadata": {},
   "outputs": [],
   "source": [
    "#mode method\n"
   ]
  },
  {
   "cell_type": "code",
   "execution_count": 18,
   "id": "db137b53-4f06-4835-8114-88377901ed70",
   "metadata": {},
   "outputs": [
    {
     "name": "stdout",
     "output_type": "stream",
     "text": [
      "Mode of given data set is 4\n"
     ]
    }
   ],
   "source": [
    "import statistics\n",
    " \n",
    "set1 =[1, 2, 3, 3, 4, 4, 4, 5, 5]\n",
    " \n",
    "\n",
    "print(\"Mode of given data set is % s\" % (statistics.mode(set1)))"
   ]
  },
  {
   "cell_type": "code",
   "execution_count": null,
   "id": "ee8bbd04-0992-4371-900e-e56d0e9fc6d1",
   "metadata": {},
   "outputs": [],
   "source": [
    "# quartiles"
   ]
  },
  {
   "cell_type": "code",
   "execution_count": 22,
   "id": "b0f2524b-64a9-405e-a957-e25d6f1ec861",
   "metadata": {},
   "outputs": [
    {
     "data": {
      "text/plain": [
       "array([ 7. , 11. , 14.2])"
      ]
     },
     "execution_count": 22,
     "metadata": {},
     "output_type": "execute_result"
    }
   ],
   "source": [
    "import numpy as np\n",
    "\n",
    "# calculate quartiles\n",
    "np.quantile(x, [0.25, 0.5, 0.7])"
   ]
  },
  {
   "cell_type": "code",
   "execution_count": null,
   "id": "ceeccea8-6eb7-4bf6-bd22-e18649ebfa37",
   "metadata": {},
   "outputs": [],
   "source": [
    "# standard deviation"
   ]
  },
  {
   "cell_type": "code",
   "execution_count": 23,
   "id": "586fa55a-b4df-44eb-9e7c-91ae583a0dd3",
   "metadata": {},
   "outputs": [
    {
     "name": "stdout",
     "output_type": "stream",
     "text": [
      "Standard Deviation of sample is 1.5811388300841898 \n"
     ]
    }
   ],
   "source": [
    "import statistics\n",
    " \n",
    "\n",
    "sample = [1, 2, 3, 4, 5]\n",
    " \n",
    "\n",
    "print(\"Standard Deviation of sample is % s \"\n",
    "                % (statistics.stdev(sample)))"
   ]
  },
  {
   "cell_type": "code",
   "execution_count": null,
   "id": "f28560a3-d1ed-4e7d-9235-1df8416fe898",
   "metadata": {},
   "outputs": [],
   "source": []
  }
 ],
 "metadata": {
  "kernelspec": {
   "display_name": "Python 3 (ipykernel)",
   "language": "python",
   "name": "python3"
  },
  "language_info": {
   "codemirror_mode": {
    "name": "ipython",
    "version": 3
   },
   "file_extension": ".py",
   "mimetype": "text/x-python",
   "name": "python",
   "nbconvert_exporter": "python",
   "pygments_lexer": "ipython3",
   "version": "3.11.7"
  }
 },
 "nbformat": 4,
 "nbformat_minor": 5
}
