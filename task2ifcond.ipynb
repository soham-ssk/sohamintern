{
 "cells": [
  {
   "cell_type": "code",
   "execution_count": 8,
   "id": "bc8eed46-6f72-42bc-a916-2419335994bd",
   "metadata": {},
   "outputs": [
    {
     "ename": "IndentationError",
     "evalue": "unexpected indent (2682672974.py, line 3)",
     "output_type": "error",
     "traceback": [
      "\u001b[1;36m  Cell \u001b[1;32mIn[8], line 3\u001b[1;36m\u001b[0m\n\u001b[1;33m    Not Equals: a ! = b\u001b[0m\n\u001b[1;37m    ^\u001b[0m\n\u001b[1;31mIndentationError\u001b[0m\u001b[1;31m:\u001b[0m unexpected indent\n"
     ]
    }
   ],
   "source": [
    "#if condition \n",
    "#   Equals: a == b\n",
    "     Not Equals: a ! = b\n",
    "      Less than: a < b\n",
    "        Less than or equal to: a <= b\n",
    "          Greater than: a > b\n",
    "            Greater than or equal to: a >= b\n",
    "# These statement are commanly used in if statement \n",
    "# if condition is declared by keyword \"if\"\n"
   ]
  },
  {
   "cell_type": "code",
   "execution_count": 9,
   "id": "689130e5-652d-495c-9ec3-4137bfb8bcdf",
   "metadata": {},
   "outputs": [
    {
     "name": "stdout",
     "output_type": "stream",
     "text": [
      "both are same value\n"
     ]
    }
   ],
   "source": [
    "a=20\n",
    "c=20\n",
    "if a==c:\n",
    "   print(\"both are same value\")"
   ]
  },
  {
   "cell_type": "code",
   "execution_count": 11,
   "id": "6dab97b3-ff48-495a-a1b0-14599e933a6f",
   "metadata": {},
   "outputs": [
    {
     "name": "stdout",
     "output_type": "stream",
     "text": [
      "values not matching\n"
     ]
    }
   ],
   "source": [
    "s=28\n",
    "d=58\n",
    "if s!=d:\n",
    "  print(\"values not matching\")"
   ]
  },
  {
   "cell_type": "code",
   "execution_count": 12,
   "id": "5a594219-5d16-4a42-a21b-e1253b728c30",
   "metadata": {},
   "outputs": [
    {
     "name": "stdout",
     "output_type": "stream",
     "text": [
      "y is greater \n"
     ]
    }
   ],
   "source": [
    "t=90\n",
    "y=100\n",
    "if t<y:\n",
    "    print(\"y is greater \")"
   ]
  },
  {
   "cell_type": "code",
   "execution_count": 13,
   "id": "00d04c5b-df5d-4353-9d47-3b00480f9d49",
   "metadata": {},
   "outputs": [],
   "source": [
    "g=68\n",
    "h=34\n",
    "if g<=h:\n",
    "    print(\"g is smallesst\")"
   ]
  },
  {
   "cell_type": "code",
   "execution_count": 15,
   "id": "aa0e9715-0717-4c35-8914-ed6d62de0025",
   "metadata": {},
   "outputs": [
    {
     "name": "stdout",
     "output_type": "stream",
     "text": [
      "i is gratest \n"
     ]
    }
   ],
   "source": [
    "u=78\n",
    "i=88\n",
    "if u<=i:\n",
    "   print(\"i is gratest \")"
   ]
  },
  {
   "cell_type": "code",
   "execution_count": 21,
   "id": "d1113911-1790-4ecf-b4b6-2365d07f2e6a",
   "metadata": {},
   "outputs": [
    {
     "name": "stdout",
     "output_type": "stream",
     "text": [
      " g is greater\n"
     ]
    }
   ],
   "source": [
    "b=50\n",
    "g=80\n",
    "if b<g:\n",
    "    print(\" g is greater\")"
   ]
  },
  {
   "cell_type": "code",
   "execution_count": 22,
   "id": "970ce405-b597-4b87-83eb-f93263a58689",
   "metadata": {},
   "outputs": [
    {
     "name": "stdout",
     "output_type": "stream",
     "text": [
      "both values same\n"
     ]
    }
   ],
   "source": [
    "a=20\n",
    "s=40\n",
    "a=20+20\n",
    "if a==s:\n",
    "    print(\"both values same\")"
   ]
  },
  {
   "cell_type": "code",
   "execution_count": 23,
   "id": "2a52c033-aabf-46f0-b124-03675d58110a",
   "metadata": {},
   "outputs": [
    {
     "name": "stdout",
     "output_type": "stream",
     "text": [
      "g is grater than f\n"
     ]
    }
   ],
   "source": [
    "f=80\n",
    "g=60\n",
    "g=60+30\n",
    "if f<g:\n",
    "    print(\"g is grater than f\")"
   ]
  },
  {
   "cell_type": "code",
   "execution_count": 31,
   "id": "7b0421b4-db59-4408-9b32-9257ffe4ca22",
   "metadata": {},
   "outputs": [
    {
     "ename": "IndentationError",
     "evalue": "unexpected indent (2185814267.py, line 4)",
     "output_type": "error",
     "traceback": [
      "\u001b[1;36m  Cell \u001b[1;32mIn[31], line 4\u001b[1;36m\u001b[0m\n\u001b[1;33m    if  x!=v:\u001b[0m\n\u001b[1;37m    ^\u001b[0m\n\u001b[1;31mIndentationError\u001b[0m\u001b[1;31m:\u001b[0m unexpected indent\n"
     ]
    }
   ],
   "source": [
    "v=69\n",
    "x=30\n",
    "x=30*3\n",
    "  if  x!=v:\n",
    "  print(\"x does not have same value as v\")"
   ]
  },
  {
   "cell_type": "code",
   "execution_count": 33,
   "id": "b89f14d6-3f23-4fc1-bb58-54fd37280157",
   "metadata": {},
   "outputs": [
    {
     "name": "stdout",
     "output_type": "stream",
     "text": [
      "m is fgreatest\n"
     ]
    }
   ],
   "source": [
    "l=40\n",
    "m=60\n",
    "if l<m:\n",
    " print(\"m is fgreatest\")"
   ]
  },
  {
   "cell_type": "code",
   "execution_count": null,
   "id": "46cfa49a-dcd1-4934-b732-ed12bcf3a882",
   "metadata": {},
   "outputs": [],
   "source": []
  }
 ],
 "metadata": {
  "kernelspec": {
   "display_name": "Python 3 (ipykernel)",
   "language": "python",
   "name": "python3"
  },
  "language_info": {
   "codemirror_mode": {
    "name": "ipython",
    "version": 3
   },
   "file_extension": ".py",
   "mimetype": "text/x-python",
   "name": "python",
   "nbconvert_exporter": "python",
   "pygments_lexer": "ipython3",
   "version": "3.11.7"
  }
 },
 "nbformat": 4,
 "nbformat_minor": 5
}
