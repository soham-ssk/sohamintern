{
 "cells": [
  {
   "cell_type": "code",
   "execution_count": 1,
   "id": "f2a493b0",
   "metadata": {},
   "outputs": [],
   "source": [
    "#A variable can have a short name (like x and y) \n",
    "#or a more descriptive name (age, price, carname, etc.)"
   ]
  },
  {
   "cell_type": "code",
   "execution_count": 2,
   "id": "285412d1",
   "metadata": {},
   "outputs": [
    {
     "name": "stdout",
     "output_type": "stream",
     "text": [
      "A variable name must start with a letter or an underscore character (_)\n",
      "A variable name cannot start with a digit\n",
      "A variable name can only contain alpha-numeric characters and underscores (a-z, A-Z, 0-9, and _ )\n",
      "Variable names are case-sensitive (age, Age and AGE are three different variables)\n",
      "There is no limit on the length of the variable name\n",
      "A variable name cannot contain spaces\n",
      "The variable name cannot be any Go keywords\n"
     ]
    }
   ],
   "source": [
    "#variable naming rules:\n",
    "print(\"A variable name must start with a letter or an underscore character (_)\")\n",
    "print(\"A variable name cannot start with a digit\")\n",
    "print(\"A variable name can only contain alpha-numeric characters and underscores (a-z, A-Z, 0-9, and _ )\")\n",
    "print(\"Variable names are case-sensitive (age, Age and AGE are three different variables)\")\n",
    "print(\"There is no limit on the length of the variable name\")\n",
    "print(\"A variable name cannot contain spaces\")\n",
    "print(\"The variable name cannot be any Go keywords\")"
   ]
  },
  {
   "cell_type": "code",
   "execution_count": 3,
   "id": "1ff7705c",
   "metadata": {},
   "outputs": [
    {
     "name": "stdout",
     "output_type": "stream",
     "text": [
      "Name_of_Employee\n",
      "Shreyash\n"
     ]
    }
   ],
   "source": [
    "#Example \n",
    "x=\"Name_of_Employee\"\n",
    "y=\"Shreyash\"\n",
    "print(x)\n",
    "print(y)"
   ]
  },
  {
   "cell_type": "code",
   "execution_count": 4,
   "id": "4da76d83",
   "metadata": {},
   "outputs": [],
   "source": [
    "#Camel Case\n",
    "#Each word, except the first, starts with a capital letter:\n",
    "myName = \"Shreyash\""
   ]
  },
  {
   "cell_type": "code",
   "execution_count": 5,
   "id": "bf6b982a",
   "metadata": {},
   "outputs": [],
   "source": [
    "#Pascal Case\n",
    "#Each word starts with a capital letter:\n",
    "MyName = \"Shreyash\""
   ]
  },
  {
   "cell_type": "code",
   "execution_count": null,
   "id": "99573342",
   "metadata": {},
   "outputs": [],
   "source": [
    "#Snake Case\n",
    "#Each word is separated by an underscore character:\n",
    "my_name = \"Shreyash\""
   ]
  }
 ],
 "metadata": {
  "kernelspec": {
   "display_name": "Python 3 (ipykernel)",
   "language": "python",
   "name": "python3"
  },
  "language_info": {
   "codemirror_mode": {
    "name": "ipython",
    "version": 3
   },
   "file_extension": ".py",
   "mimetype": "text/x-python",
   "name": "python",
   "nbconvert_exporter": "python",
   "pygments_lexer": "ipython3",
   "version": "3.10.9"
  }
 },
 "nbformat": 4,
 "nbformat_minor": 5
}
