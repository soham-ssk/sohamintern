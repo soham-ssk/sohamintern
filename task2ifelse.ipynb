{
 "cells": [
  {
   "cell_type": "code",
   "execution_count": null,
   "id": "a8650dba-5333-4284-9156-10430e662ea2",
   "metadata": {},
   "outputs": [],
   "source": [
    "#  if else condition \n",
    "   #if elif statement can be used by keyword \"elif\"\n",
    "     #if elif statement is used where if firrst condition is false and else statement is executed "
   ]
  },
  {
   "cell_type": "code",
   "execution_count": 1,
   "id": "0fc9a203-7203-47ed-afec-d1dd24c2dbab",
   "metadata": {},
   "outputs": [
    {
     "name": "stdout",
     "output_type": "stream",
     "text": [
      "a and b are equal\n"
     ]
    }
   ],
   "source": [
    "a = 33\n",
    "b = 33\n",
    "if b > a:\n",
    "  print(\"b is greater than a\")\n",
    "elif a == b:\n",
    "  print(\"a and b are equal\")\n"
   ]
  },
  {
   "cell_type": "code",
   "execution_count": 2,
   "id": "f8481cbc-0966-4d13-b35b-ae743fc82203",
   "metadata": {},
   "outputs": [
    {
     "name": "stdout",
     "output_type": "stream",
     "text": [
      "c is not equal to d\n"
     ]
    }
   ],
   "source": [
    "c=40\n",
    "d=44\n",
    "if c!=d:\n",
    "    print(\"c is not equal to d\")\n",
    "elif c<d:\n",
    "    print(\"d is greatest\")"
   ]
  },
  {
   "cell_type": "code",
   "execution_count": 3,
   "id": "9775bdc7-aa05-4ef6-b789-bbc731bba5dd",
   "metadata": {},
   "outputs": [
    {
     "name": "stdout",
     "output_type": "stream",
     "text": [
      "f is bigger\n"
     ]
    }
   ],
   "source": [
    "e=90\n",
    "f=60\n",
    "if e<=f:\n",
    "    print(\"f is bigger\")\n",
    "elif e>=f:\n",
    "    print(\"f is bigger\")"
   ]
  },
  {
   "cell_type": "code",
   "execution_count": 6,
   "id": "2302080c-d6ea-4b61-a5b1-79d78ad52dd2",
   "metadata": {},
   "outputs": [
    {
     "name": "stdout",
     "output_type": "stream",
     "text": [
      "u is greatest\n"
     ]
    }
   ],
   "source": [
    "u=98\n",
    "i=88\n",
    "if u==i:\n",
    "    print(\"both are same \")\n",
    "elif u>i:\n",
    "    print(\"u is greatest\")"
   ]
  },
  {
   "cell_type": "code",
   "execution_count": 11,
   "id": "f969bf23-7363-42f5-a16f-f2a7461fdb59",
   "metadata": {},
   "outputs": [
    {
     "name": "stdout",
     "output_type": "stream",
     "text": [
      "j is greatest\n"
     ]
    }
   ],
   "source": [
    "j=60\n",
    "k=70\n",
    "j=60+20\n",
    "if j>k:\n",
    " print(\"j is greatest\")\n",
    "elif j<=k:\n",
    " print(\"k is bigger than j\")"
   ]
  },
  {
   "cell_type": "code",
   "execution_count": 23,
   "id": "ea1c3b71-178b-4f8c-b99f-bc2a29758f89",
   "metadata": {},
   "outputs": [
    {
     "name": "stdout",
     "output_type": "stream",
     "text": [
      " z is greater \n"
     ]
    }
   ],
   "source": [
    "z=89\n",
    "x=56\n",
    "if z==x:\n",
    "    print(\"both are equal\")\n",
    "elif z >= x:\n",
    "    print(\" z is greater \")"
   ]
  },
  {
   "cell_type": "code",
   "execution_count": 27,
   "id": "c18e384f-7b01-4931-9e88-09a820834ead",
   "metadata": {},
   "outputs": [
    {
     "name": "stdout",
     "output_type": "stream",
     "text": [
      "p is gratest\n"
     ]
    }
   ],
   "source": [
    "o=80\n",
    "p=90\n",
    "if o<p:\n",
    "    print(\"p is gratest\")\n",
    "elif o==p:\n",
    "    print(\"both are equal\")"
   ]
  },
  {
   "cell_type": "code",
   "execution_count": 29,
   "id": "710be4c6-dc17-4e0c-85bf-1d88782326ee",
   "metadata": {},
   "outputs": [
    {
     "name": "stdout",
     "output_type": "stream",
     "text": [
      "not same value \n"
     ]
    }
   ],
   "source": [
    "s=12\n",
    "x=13\n",
    "if s!=x:\n",
    "    print(\"not same value \")\n",
    "elif s<=x:\n",
    "    print(\"x is grater \")"
   ]
  },
  {
   "cell_type": "code",
   "execution_count": null,
   "id": "c2ecc394-c5fd-4762-bb86-3d0f4c34571e",
   "metadata": {},
   "outputs": [],
   "source": []
  }
 ],
 "metadata": {
  "kernelspec": {
   "display_name": "Python 3 (ipykernel)",
   "language": "python",
   "name": "python3"
  },
  "language_info": {
   "codemirror_mode": {
    "name": "ipython",
    "version": 3
   },
   "file_extension": ".py",
   "mimetype": "text/x-python",
   "name": "python",
   "nbconvert_exporter": "python",
   "pygments_lexer": "ipython3",
   "version": "3.11.7"
  }
 },
 "nbformat": 4,
 "nbformat_minor": 5
}
