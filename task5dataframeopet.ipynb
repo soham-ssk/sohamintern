{
 "cells": [
  {
   "cell_type": "code",
   "execution_count": null,
   "id": "48a0d826-aece-4644-956f-766fd40df46d",
   "metadata": {},
   "outputs": [],
   "source": [
    "# dataframes operations "
   ]
  },
  {
   "cell_type": "code",
   "execution_count": null,
   "id": "f3211319-16ec-4caa-9d32-465fd7dade6f",
   "metadata": {},
   "outputs": [],
   "source": [
    "#Pandas DataFrame.append()\n",
    "#The Pandas append() function is used to add the rows of other dataframe to the end of the given dataframe, returning a new dataframe object. The new columns and the new cells are inserted into the original DataFrame that are populated with NaN value.\n",
    "\n",
    "#Syntax:\n",
    "DataFrame.append(other, ignore_index=False, verify_integrity=False, sort=None)  "
   ]
  },
  {
   "cell_type": "code",
   "execution_count": 8,
   "id": "cbf53cd4-183f-41ca-9540-f8a431943ed2",
   "metadata": {},
   "outputs": [
    {
     "ename": "IndentationError",
     "evalue": "unexpected indent (1300012090.py, line 3)",
     "output_type": "error",
     "traceback": [
      "\u001b[1;36m  Cell \u001b[1;32mIn[8], line 3\u001b[1;36m\u001b[0m\n\u001b[1;33m    info1=pd.DataFrame({\"x\":[25,15,12,19],\u001b[0m\n\u001b[1;37m    ^\u001b[0m\n\u001b[1;31mIndentationError\u001b[0m\u001b[1;31m:\u001b[0m unexpected indent\n"
     ]
    }
   ],
   "source": [
    "import pandas as pd   \n",
    "#Create first Dataframe using dictionary   \n",
    " info1=pd.DataFrame({\"x\":[25,15,12,19],   \n",
    "                    \"y\":[47, 24, 17, 29]})     \n",
    "# Create second Dataframe using dictionary   \n",
    " info2=pd.DataFrame({\"x\":[25, 15, 12],   \n",
    "                    \"y\":[47, 24, 17],    \n",
    "                    \"z\":[38, 12, 45]})   \n",
    "# append info2 at end in info1   \n",
    " info.append(info2, ignore_index = True)   "
   ]
  },
  {
   "cell_type": "code",
   "execution_count": 7,
   "id": "ebf6587e-6b17-426e-ab33-28737926c2a8",
   "metadata": {},
   "outputs": [
    {
     "name": "stdout",
     "output_type": "stream",
     "text": [
      "    x   y\n",
      "0  15  24\n",
      "1  25  38\n",
      "2  37  18\n",
      "3  42  45 \n",
      "\n"
     ]
    },
    {
     "ename": "AttributeError",
     "evalue": "'DataFrame' object has no attribute 'append'",
     "output_type": "error",
     "traceback": [
      "\u001b[1;31m---------------------------------------------------------------------------\u001b[0m",
      "\u001b[1;31mAttributeError\u001b[0m                            Traceback (most recent call last)",
      "\u001b[1;32m~\\AppData\\Local\\Temp\\ipykernel_18852\\287198062.py\u001b[0m in \u001b[0;36m?\u001b[1;34m()\u001b[0m\n\u001b[0;32m     10\u001b[0m \u001b[0mprint\u001b[0m\u001b[1;33m(\u001b[0m\u001b[0minfo1\u001b[0m\u001b[1;33m,\u001b[0m \u001b[1;34m\"\\n\"\u001b[0m\u001b[1;33m)\u001b[0m\u001b[1;33m\u001b[0m\u001b[1;33m\u001b[0m\u001b[0m\n\u001b[0;32m     11\u001b[0m \u001b[1;31m# print values of info2\u001b[0m\u001b[1;33m\u001b[0m\u001b[1;33m\u001b[0m\u001b[0m\n\u001b[0;32m     12\u001b[0m \u001b[0minfo2\u001b[0m\u001b[1;33m\u001b[0m\u001b[1;33m\u001b[0m\u001b[0m\n\u001b[0;32m     13\u001b[0m \u001b[1;31m# append info2 at the end of info1 dataframe\u001b[0m\u001b[1;33m\u001b[0m\u001b[1;33m\u001b[0m\u001b[0m\n\u001b[1;32m---> 14\u001b[1;33m \u001b[0minfo1\u001b[0m\u001b[1;33m.\u001b[0m\u001b[0mappend\u001b[0m\u001b[1;33m(\u001b[0m\u001b[0mdf2\u001b[0m\u001b[1;33m)\u001b[0m\u001b[1;33m\u001b[0m\u001b[1;33m\u001b[0m\u001b[0m\n\u001b[0m\u001b[0;32m     15\u001b[0m \u001b[1;31m# Continuous index value will maintained\u001b[0m\u001b[1;33m\u001b[0m\u001b[1;33m\u001b[0m\u001b[0m\n\u001b[0;32m     16\u001b[0m \u001b[1;31m# across rows in the new appended data frame.\u001b[0m\u001b[1;33m\u001b[0m\u001b[1;33m\u001b[0m\u001b[0m\n\u001b[0;32m     17\u001b[0m \u001b[0minfo\u001b[0m\u001b[1;33m.\u001b[0m\u001b[0mappend\u001b[0m\u001b[1;33m(\u001b[0m\u001b[0minfo2\u001b[0m\u001b[1;33m,\u001b[0m \u001b[0mignore_index\u001b[0m \u001b[1;33m=\u001b[0m \u001b[1;32mTrue\u001b[0m\u001b[1;33m)\u001b[0m\u001b[1;33m\u001b[0m\u001b[1;33m\u001b[0m\u001b[0m\n",
      "\u001b[1;32m~\\anaconda3\\Lib\\site-packages\\pandas\\core\\generic.py\u001b[0m in \u001b[0;36m?\u001b[1;34m(self, name)\u001b[0m\n\u001b[0;32m   6200\u001b[0m             \u001b[1;32mand\u001b[0m \u001b[0mname\u001b[0m \u001b[1;32mnot\u001b[0m \u001b[1;32min\u001b[0m \u001b[0mself\u001b[0m\u001b[1;33m.\u001b[0m\u001b[0m_accessors\u001b[0m\u001b[1;33m\u001b[0m\u001b[1;33m\u001b[0m\u001b[0m\n\u001b[0;32m   6201\u001b[0m             \u001b[1;32mand\u001b[0m \u001b[0mself\u001b[0m\u001b[1;33m.\u001b[0m\u001b[0m_info_axis\u001b[0m\u001b[1;33m.\u001b[0m\u001b[0m_can_hold_identifiers_and_holds_name\u001b[0m\u001b[1;33m(\u001b[0m\u001b[0mname\u001b[0m\u001b[1;33m)\u001b[0m\u001b[1;33m\u001b[0m\u001b[1;33m\u001b[0m\u001b[0m\n\u001b[0;32m   6202\u001b[0m         ):\n\u001b[0;32m   6203\u001b[0m             \u001b[1;32mreturn\u001b[0m \u001b[0mself\u001b[0m\u001b[1;33m[\u001b[0m\u001b[0mname\u001b[0m\u001b[1;33m]\u001b[0m\u001b[1;33m\u001b[0m\u001b[1;33m\u001b[0m\u001b[0m\n\u001b[1;32m-> 6204\u001b[1;33m         \u001b[1;32mreturn\u001b[0m \u001b[0mobject\u001b[0m\u001b[1;33m.\u001b[0m\u001b[0m__getattribute__\u001b[0m\u001b[1;33m(\u001b[0m\u001b[0mself\u001b[0m\u001b[1;33m,\u001b[0m \u001b[0mname\u001b[0m\u001b[1;33m)\u001b[0m\u001b[1;33m\u001b[0m\u001b[1;33m\u001b[0m\u001b[0m\n\u001b[0m",
      "\u001b[1;31mAttributeError\u001b[0m: 'DataFrame' object has no attribute 'append'"
     ]
    }
   ],
   "source": [
    "# Example2:\n",
    "import pandas as pd     \n",
    "# Create first Dataframe using dictionary   \n",
    "info1 = info = pd.DataFrame({\"x\":[15, 25, 37, 42],   \n",
    "                         \"y\":[24, 38, 18, 45]})     \n",
    "# Create second Dataframe using dictionary   \n",
    "info2 = pd.DataFrame({\"x\":[15, 25, 37],   \n",
    "                    \"y\":[24, 38, 45]})     \n",
    "# print value of info1   \n",
    "print(info1, \"\\n\")    \n",
    "# print values of info2   \n",
    "info2   \n",
    "# append info2 at the end of info1 dataframe   \n",
    "info1.append(df2)   \n",
    "# Continuous index value will maintained   \n",
    "# across rows in the new appended data frame.   \n",
    "info.append(info2, ignore_index = True)  "
   ]
  },
  {
   "cell_type": "code",
   "execution_count": null,
   "id": "f2281b51-5ee0-4672-89b1-2fbeb0f4539f",
   "metadata": {},
   "outputs": [],
   "source": [
    "# Pandas DataFrame.apply()\n",
    "# The Pandas apply() function allows the user to pass a function and apply it to every single value of the Pandas series. This function improves the capabilities of the panda's library because it helps to segregate data according to the conditions required. So that it can be efficiently used for data science and machine learning."
   ]
  },
  {
   "cell_type": "code",
   "execution_count": null,
   "id": "024fc14a-11e8-457d-b85e-845ff725b726",
   "metadata": {},
   "outputs": [],
   "source": [
    "# Syntax:\n",
    "DataFrame.apply(func, axis=0, broadcast=None, raw=False, reduce=None, result_type=None, args=(), **kwds)"
   ]
  },
  {
   "cell_type": "code",
   "execution_count": 9,
   "id": "542cdc45-42d1-48e8-b640-08379886485a",
   "metadata": {},
   "outputs": [
    {
     "ename": "NameError",
     "evalue": "name 'np' is not defined",
     "output_type": "error",
     "traceback": [
      "\u001b[1;31m---------------------------------------------------------------------------\u001b[0m",
      "\u001b[1;31mNameError\u001b[0m                                 Traceback (most recent call last)",
      "Cell \u001b[1;32mIn[9], line 3\u001b[0m\n\u001b[0;32m      1\u001b[0m \u001b[38;5;66;03m# Example:\u001b[39;00m\n\u001b[0;32m      2\u001b[0m info \u001b[38;5;241m=\u001b[39m pd\u001b[38;5;241m.\u001b[39mDataFrame([[\u001b[38;5;241m2\u001b[39m, \u001b[38;5;241m7\u001b[39m]] \u001b[38;5;241m*\u001b[39m \u001b[38;5;241m4\u001b[39m, columns\u001b[38;5;241m=\u001b[39m[\u001b[38;5;124m'\u001b[39m\u001b[38;5;124mP\u001b[39m\u001b[38;5;124m'\u001b[39m, \u001b[38;5;124m'\u001b[39m\u001b[38;5;124mQ\u001b[39m\u001b[38;5;124m'\u001b[39m])  \n\u001b[1;32m----> 3\u001b[0m info\u001b[38;5;241m.\u001b[39mapply(np\u001b[38;5;241m.\u001b[39msqrt)  \n\u001b[0;32m      4\u001b[0m info\u001b[38;5;241m.\u001b[39mapply(np\u001b[38;5;241m.\u001b[39msum, axis\u001b[38;5;241m=\u001b[39m\u001b[38;5;241m0\u001b[39m)  \n\u001b[0;32m      5\u001b[0m info\u001b[38;5;241m.\u001b[39mapply(np\u001b[38;5;241m.\u001b[39msum, axis\u001b[38;5;241m=\u001b[39m\u001b[38;5;241m1\u001b[39m)  \n",
      "\u001b[1;31mNameError\u001b[0m: name 'np' is not defined"
     ]
    }
   ],
   "source": [
    "# Example:\n",
    "info = pd.DataFrame([[2, 7]] * 4, columns=['P', 'Q'])  \n",
    "info.apply(np.sqrt)  \n",
    "info.apply(np.sum, axis=0)  \n",
    "info.apply(np.sum, axis=1)  \n",
    "info.apply(lambda x: [1, 2], axis=1)  \n",
    "info.apply(lambda x: [1, 2], axis=1, result_type='expand')  \n",
    "info.apply(lambda x: pd.Series([1, 2], index=['foo', 'bar']), axis=1)  \n",
    "info.apply(lambda x: [1, 2], axis=1, result_type='broadcast')  \n",
    "info  "
   ]
  },
  {
   "cell_type": "code",
   "execution_count": null,
   "id": "dcf1ce17-9a2d-4207-99e1-12b994c64132",
   "metadata": {},
   "outputs": [],
   "source": [
    "# Pandas DataFrame.count()\n",
    "#The Pandas count() is defined as a method that is used to count the number of non-NA cells for each column or row. It is also suitable to work with the non-floating data.\n",
    "\n",
    "# Syntax:\n",
    "DataFrame.count(axis=0, level=None, numeric_only=False)  \n"
   ]
  },
  {
   "cell_type": "code",
   "execution_count": 15,
   "id": "0b9a8beb-3c11-4b92-a630-c2852cc534ed",
   "metadata": {},
   "outputs": [
    {
     "ename": "SyntaxError",
     "evalue": "expression expected after dictionary key and ':' (446192795.py, line 6)",
     "output_type": "error",
     "traceback": [
      "\u001b[1;36m  Cell \u001b[1;32mIn[15], line 6\u001b[1;36m\u001b[0m\n\u001b[1;33m    \"Age\":} [27., 29, np.nan, 32])\u001b[0m\n\u001b[1;37m         ^\u001b[0m\n\u001b[1;31mSyntaxError\u001b[0m\u001b[1;31m:\u001b[0m expression expected after dictionary key and ':'\n"
     ]
    }
   ],
   "source": [
    "# Example 1: The below example demonstrates the working of the count().\n",
    "\n",
    "import pandas as pd  \n",
    "import numpy as np  \n",
    "info = pd.DataFrame({\"Person\":[\"Parker\", \"Smith\", \"William\", \"John\"],  \n",
    "\"Age\":} [27., 29, np.nan, 32])  \n",
    "info.count()  "
   ]
  },
  {
   "cell_type": "code",
   "execution_count": null,
   "id": "4b8bb488-8bbe-4549-b0b9-f74f46de379a",
   "metadata": {},
   "outputs": [],
   "source": [
    "# Pandas dataframe.nunique() Method\n",
    "# Python is a great language for doing data analysis, primarily because of the fantastic ecosystem of data-centric Python packages. Pandas is one of those packages and makes importing and analyzing data much easier. \n",
    "\n",
    "# Pandas DataFrame.nunique Syntax\n",
    "# Pandas dataframe.nunique() function returns a Series with a number of distinct observations over the requested axis. If we set the value of the axis to 0, then it finds the total number of unique observations over the index axis. If we set the value of the axis to 1, then it finds the total number of unique observations over the column axis. It also provides the feature to exclude the NaN values from the count of unique numbers."
   ]
  },
  {
   "cell_type": "code",
   "execution_count": 16,
   "id": "03bf979b-268c-4b5f-92c3-d19fffc6c6dc",
   "metadata": {},
   "outputs": [
    {
     "data": {
      "text/html": [
       "<div>\n",
       "<style scoped>\n",
       "    .dataframe tbody tr th:only-of-type {\n",
       "        vertical-align: middle;\n",
       "    }\n",
       "\n",
       "    .dataframe tbody tr th {\n",
       "        vertical-align: top;\n",
       "    }\n",
       "\n",
       "    .dataframe thead th {\n",
       "        text-align: right;\n",
       "    }\n",
       "</style>\n",
       "<table border=\"1\" class=\"dataframe\">\n",
       "  <thead>\n",
       "    <tr style=\"text-align: right;\">\n",
       "      <th></th>\n",
       "      <th>A</th>\n",
       "      <th>B</th>\n",
       "      <th>C</th>\n",
       "      <th>D</th>\n",
       "    </tr>\n",
       "  </thead>\n",
       "  <tbody>\n",
       "    <tr>\n",
       "      <th>0</th>\n",
       "      <td>14</td>\n",
       "      <td>5</td>\n",
       "      <td>20</td>\n",
       "      <td>14</td>\n",
       "    </tr>\n",
       "    <tr>\n",
       "      <th>1</th>\n",
       "      <td>4</td>\n",
       "      <td>2</td>\n",
       "      <td>20</td>\n",
       "      <td>3</td>\n",
       "    </tr>\n",
       "    <tr>\n",
       "      <th>2</th>\n",
       "      <td>5</td>\n",
       "      <td>54</td>\n",
       "      <td>7</td>\n",
       "      <td>6</td>\n",
       "    </tr>\n",
       "    <tr>\n",
       "      <th>3</th>\n",
       "      <td>4</td>\n",
       "      <td>3</td>\n",
       "      <td>3</td>\n",
       "      <td>2</td>\n",
       "    </tr>\n",
       "    <tr>\n",
       "      <th>4</th>\n",
       "      <td>1</td>\n",
       "      <td>2</td>\n",
       "      <td>8</td>\n",
       "      <td>6</td>\n",
       "    </tr>\n",
       "  </tbody>\n",
       "</table>\n",
       "</div>"
      ],
      "text/plain": [
       "    A   B   C   D\n",
       "0  14   5  20  14\n",
       "1   4   2  20   3\n",
       "2   5  54   7   6\n",
       "3   4   3   3   2\n",
       "4   1   2   8   6"
      ]
     },
     "execution_count": 16,
     "metadata": {},
     "output_type": "execute_result"
    }
   ],
   "source": [
    "import pandas as pd\n",
    " \n",
    "# Creating the first dataframe\n",
    "df = pd.DataFrame({\"A\":[14, 4, 5, 4, 1],\n",
    "                \"B\":[5, 2, 54, 3, 2],\n",
    "                \"C\":[20, 20, 7, 3, 8],\n",
    "                    \"D\":[14, 3, 6, 2, 6]})\n",
    " \n",
    "# Print the dataframe\n",
    "df"
   ]
  },
  {
   "cell_type": "code",
   "execution_count": 17,
   "id": "a108c449-761c-4dc6-8f68-ac59b3052dfe",
   "metadata": {},
   "outputs": [
    {
     "ename": "NameError",
     "evalue": "name 'np' is not defined",
     "output_type": "error",
     "traceback": [
      "\u001b[1;31m---------------------------------------------------------------------------\u001b[0m",
      "\u001b[1;31mNameError\u001b[0m                                 Traceback (most recent call last)",
      "Cell \u001b[1;32mIn[17], line 8\u001b[0m\n\u001b[0;32m      4\u001b[0m \u001b[38;5;28;01mimport\u001b[39;00m \u001b[38;5;21;01mpandas\u001b[39;00m \u001b[38;5;28;01mas\u001b[39;00m \u001b[38;5;21;01mpd\u001b[39;00m\n\u001b[0;32m      6\u001b[0m \u001b[38;5;66;03m# Creating the first dataframe\u001b[39;00m\n\u001b[0;32m      7\u001b[0m df \u001b[38;5;241m=\u001b[39m pd\u001b[38;5;241m.\u001b[39mDataFrame({\u001b[38;5;124m\"\u001b[39m\u001b[38;5;124mA\u001b[39m\u001b[38;5;124m\"\u001b[39m: [\u001b[38;5;124m\"\u001b[39m\u001b[38;5;124mSandy\u001b[39m\u001b[38;5;124m\"\u001b[39m, \u001b[38;5;124m\"\u001b[39m\u001b[38;5;124malex\u001b[39m\u001b[38;5;124m\"\u001b[39m,\n\u001b[1;32m----> 8\u001b[0m                          \u001b[38;5;124m\"\u001b[39m\u001b[38;5;124mbrook\u001b[39m\u001b[38;5;124m\"\u001b[39m, \u001b[38;5;124m\"\u001b[39m\u001b[38;5;124mkelly\u001b[39m\u001b[38;5;124m\"\u001b[39m, np\u001b[38;5;241m.\u001b[39mnan],\n\u001b[0;32m      9\u001b[0m                    \u001b[38;5;124m\"\u001b[39m\u001b[38;5;124mB\u001b[39m\u001b[38;5;124m\"\u001b[39m: [np\u001b[38;5;241m.\u001b[39mnan, \u001b[38;5;124m\"\u001b[39m\u001b[38;5;124molivia\u001b[39m\u001b[38;5;124m\"\u001b[39m,\n\u001b[0;32m     10\u001b[0m                          \u001b[38;5;124m\"\u001b[39m\u001b[38;5;124molivia\u001b[39m\u001b[38;5;124m\"\u001b[39m, \u001b[38;5;124m\"\u001b[39m\u001b[38;5;124m\"\u001b[39m, \u001b[38;5;124m\"\u001b[39m\u001b[38;5;124mamanda\u001b[39m\u001b[38;5;124m\"\u001b[39m],\n\u001b[0;32m     11\u001b[0m                    \u001b[38;5;124m\"\u001b[39m\u001b[38;5;124mC\u001b[39m\u001b[38;5;124m\"\u001b[39m: [\u001b[38;5;241m20\u001b[39m \u001b[38;5;241m+\u001b[39m \u001b[38;5;241m5\u001b[39mj, \u001b[38;5;241m20\u001b[39m \u001b[38;5;241m+\u001b[39m \u001b[38;5;241m5\u001b[39mj, \u001b[38;5;241m7\u001b[39m, \u001b[38;5;28;01mNone\u001b[39;00m, \u001b[38;5;241m8\u001b[39m],\n\u001b[0;32m     12\u001b[0m                    \u001b[38;5;124m\"\u001b[39m\u001b[38;5;124mD\u001b[39m\u001b[38;5;124m\"\u001b[39m: [\u001b[38;5;241m14.8\u001b[39m, \u001b[38;5;241m3\u001b[39m, \u001b[38;5;28;01mNone\u001b[39;00m, \u001b[38;5;241m6\u001b[39m, \u001b[38;5;241m6\u001b[39m]})\n\u001b[0;32m     14\u001b[0m \u001b[38;5;66;03m# apply the nunique() function\u001b[39;00m\n\u001b[0;32m     15\u001b[0m df\u001b[38;5;241m.\u001b[39mnunique(axis\u001b[38;5;241m=\u001b[39m\u001b[38;5;241m0\u001b[39m, dropna\u001b[38;5;241m=\u001b[39m\u001b[38;5;28;01mTrue\u001b[39;00m)\n",
      "\u001b[1;31mNameError\u001b[0m: name 'np' is not defined"
     ]
    }
   ],
   "source": [
    "#Example 2: Use nunique() function to find the number of unique values over the index axis in a Dataframe. The Dataframe contains NaN values. \n",
    "\n",
    "# importing pandas as pd\n",
    "import pandas as pd\n",
    " \n",
    "# Creating the first dataframe\n",
    "df = pd.DataFrame({\"A\": [\"Sandy\", \"alex\",\n",
    "                         \"brook\", \"kelly\", np.nan],\n",
    "                   \"B\": [np.nan, \"olivia\",\n",
    "                         \"olivia\", \"\", \"amanda\"],\n",
    "                   \"C\": [20 + 5j, 20 + 5j, 7, None, 8],\n",
    "                   \"D\": [14.8, 3, None, 6, 6]})\n",
    " \n",
    "# apply the nunique() function\n",
    "df.nunique(axis=0, dropna=True)"
   ]
  },
  {
   "cell_type": "code",
   "execution_count": null,
   "id": "2647e5c2-0c10-42dd-8977-52eabe0c2654",
   "metadata": {},
   "outputs": [],
   "source": [
    "#Pandas DataFrame.query()\n",
    "#For analyzing the data, we need a lot of filtering operations. Pandas provide a query() method to filter the DataFrame.\n",
    "\n",
    "#It offers a simple way of making the selection and also capable of simplifying the task of index-based selection.\n",
    "\n",
    "#Syntax\n",
    "DataFrame.query(expr, inplace=False, **kwargs)  "
   ]
  },
  {
   "cell_type": "code",
   "execution_count": 19,
   "id": "5939381f-1bdc-4a1c-b8df-def7cce65668",
   "metadata": {},
   "outputs": [
    {
     "data": {
      "text/html": [
       "<div>\n",
       "<style scoped>\n",
       "    .dataframe tbody tr th:only-of-type {\n",
       "        vertical-align: middle;\n",
       "    }\n",
       "\n",
       "    .dataframe tbody tr th {\n",
       "        vertical-align: top;\n",
       "    }\n",
       "\n",
       "    .dataframe thead th {\n",
       "        text-align: right;\n",
       "    }\n",
       "</style>\n",
       "<table border=\"1\" class=\"dataframe\">\n",
       "  <thead>\n",
       "    <tr style=\"text-align: right;\">\n",
       "      <th></th>\n",
       "      <th>X</th>\n",
       "      <th>Y</th>\n",
       "      <th>Z Z</th>\n",
       "    </tr>\n",
       "  </thead>\n",
       "  <tbody>\n",
       "    <tr>\n",
       "      <th>0</th>\n",
       "      <td>1</td>\n",
       "      <td>10</td>\n",
       "      <td>10</td>\n",
       "    </tr>\n",
       "  </tbody>\n",
       "</table>\n",
       "</div>"
      ],
      "text/plain": [
       "   X   Y  Z Z\n",
       "0  1  10   10"
      ]
     },
     "execution_count": 19,
     "metadata": {},
     "output_type": "execute_result"
    }
   ],
   "source": [
    "#Example1\n",
    "info = pd.DataFrame({'X': range(1, 6),  \n",
    "                    'Y': range(10, 0, -2),  \n",
    "                    'Z Z': range(10, 5, -1)})  \n",
    "info  \n",
    "info.query('X > Y')  \n",
    "info[info.X > info.Y]  \n",
    "info[info.Y == info['Z Z']]  "
   ]
  },
  {
   "cell_type": "code",
   "execution_count": null,
   "id": "f6d64487-7032-46e0-b3c2-6e0c0807c55c",
   "metadata": {},
   "outputs": [],
   "source": []
  }
 ],
 "metadata": {
  "kernelspec": {
   "display_name": "Python 3 (ipykernel)",
   "language": "python",
   "name": "python3"
  },
  "language_info": {
   "codemirror_mode": {
    "name": "ipython",
    "version": 3
   },
   "file_extension": ".py",
   "mimetype": "text/x-python",
   "name": "python",
   "nbconvert_exporter": "python",
   "pygments_lexer": "ipython3",
   "version": "3.11.7"
  }
 },
 "nbformat": 4,
 "nbformat_minor": 5
}
